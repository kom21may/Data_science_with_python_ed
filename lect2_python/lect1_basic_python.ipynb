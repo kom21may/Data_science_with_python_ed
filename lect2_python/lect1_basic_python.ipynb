{
 "cells": [
  {
   "cell_type": "markdown",
   "id": "3a9f9ced",
   "metadata": {},
   "source": [
    "### 1.Write a program that will find factors of the given number and find whether the factor is even or odd.Hint: Use Loop with if-else statements"
   ]
  },
  {
   "cell_type": "code",
   "execution_count": 1,
   "id": "22f90955",
   "metadata": {},
   "outputs": [],
   "source": [
    "import math"
   ]
  },
  {
   "cell_type": "code",
   "execution_count": 27,
   "id": "cb6ba976",
   "metadata": {},
   "outputs": [],
   "source": [
    "\n",
    "def find_factors_and_even_odd(num):\n",
    "    factors = []\n",
    "    for i in range(1, int(math.sqrt(num)) + 1):\n",
    "        if num % i == 0:\n",
    "            factors.append(i)\n",
    "            if i != num // i:  # Avoid duplicate factors when i and num // i are the same.\n",
    "                factors.append(num // i)\n",
    "            \n",
    "    print(factors)\n",
    "    for factor in factors:\n",
    "        if factor % 2 == 0:\n",
    "            print(f\"{factor} is a factor and it is even.\")\n",
    "        else:\n",
    "            print(f\"{factor} is a factor and it is odd.\")\n",
    "                "
   ]
  },
  {
   "cell_type": "code",
   "execution_count": 28,
   "id": "de993d95",
   "metadata": {},
   "outputs": [
    {
     "name": "stdout",
     "output_type": "stream",
     "text": [
      "[1, 16, 2, 8, 4]\n",
      "1 is a factor and it is odd.\n",
      "16 is a factor and it is even.\n",
      "2 is a factor and it is even.\n",
      "8 is a factor and it is even.\n",
      "4 is a factor and it is even.\n"
     ]
    }
   ],
   "source": [
    "find_factors_and_even_odd(16)"
   ]
  },
  {
   "cell_type": "code",
   "execution_count": 29,
   "id": "b7e16076",
   "metadata": {},
   "outputs": [
    {
     "name": "stdout",
     "output_type": "stream",
     "text": [
      "[1, 36, 2, 18, 3, 12, 4, 9, 6]\n",
      "1 is a factor and it is odd.\n",
      "36 is a factor and it is even.\n",
      "2 is a factor and it is even.\n",
      "18 is a factor and it is even.\n",
      "3 is a factor and it is odd.\n",
      "12 is a factor and it is even.\n",
      "4 is a factor and it is even.\n",
      "9 is a factor and it is odd.\n",
      "6 is a factor and it is even.\n"
     ]
    }
   ],
   "source": [
    "find_factors_and_even_odd(36)"
   ]
  },
  {
   "cell_type": "markdown",
   "id": "f9ac2a2a",
   "metadata": {},
   "source": [
    "###  2.Write a code thataccepts a sequence of words as input and prints the words in a sequence after sorting them alphabetically. Hint: In the caseof input data being supplied to the question, it should be assumed to be a console input."
   ]
  },
  {
   "cell_type": "code",
   "execution_count": 41,
   "id": "b26ccc8b",
   "metadata": {},
   "outputs": [],
   "source": [
    "def sort(s):\n",
    "    words=s.split()\n",
    "    words.sort()\n",
    "    \n",
    "    return \" \".join(words)"
   ]
  },
  {
   "cell_type": "code",
   "execution_count": 42,
   "id": "37855541",
   "metadata": {},
   "outputs": [
    {
     "data": {
      "text/plain": [
       "'Komal is nice very'"
      ]
     },
     "execution_count": 42,
     "metadata": {},
     "output_type": "execute_result"
    }
   ],
   "source": [
    "sort('Komal is very nice')"
   ]
  },
  {
   "cell_type": "code",
   "execution_count": 43,
   "id": "c0dc801a",
   "metadata": {},
   "outputs": [
    {
     "data": {
      "text/plain": [
       "'apple banana grape orange pear'"
      ]
     },
     "execution_count": 43,
     "metadata": {},
     "output_type": "execute_result"
    }
   ],
   "source": [
    "sort(\"banana apple orange pear grape\")"
   ]
  },
  {
   "cell_type": "markdown",
   "id": "b90f1890",
   "metadata": {},
   "source": [
    "### 3.Write a program, which will find all the numbers between 1000 and 3000 (both included) such that each digit of a number is an even number. The numbers obtained should be printed in a comma-separatedsequence on a single line.Hint: In the case of input data being supplied to the question, it should be assumed to be a console input.Divide each digit by2 and verify whether is it even or not."
   ]
  },
  {
   "cell_type": "code",
   "execution_count": 48,
   "id": "b0797c67",
   "metadata": {},
   "outputs": [],
   "source": [
    "def even_list(lower,upper):\n",
    "    l=[]\n",
    "    for i in range(lower,upper+1):\n",
    "        if(i%2==0):\n",
    "            l.append(i)\n",
    "            \n",
    "    return ','.join(map(str,l))\n",
    "        "
   ]
  },
  {
   "cell_type": "code",
   "execution_count": 49,
   "id": "cfd74538",
   "metadata": {},
   "outputs": [
    {
     "data": {
      "text/plain": [
       "'1000,1002,1004,1006,1008,1010,1012,1014,1016,1018,1020,1022,1024,1026,1028,1030,1032,1034,1036,1038,1040,1042,1044,1046,1048,1050,1052,1054,1056,1058,1060,1062,1064,1066,1068,1070,1072,1074,1076,1078,1080,1082,1084,1086,1088,1090,1092,1094,1096,1098,1100,1102,1104,1106,1108,1110,1112,1114,1116,1118,1120,1122,1124,1126,1128,1130,1132,1134,1136,1138,1140,1142,1144,1146,1148,1150,1152,1154,1156,1158,1160,1162,1164,1166,1168,1170,1172,1174,1176,1178,1180,1182,1184,1186,1188,1190,1192,1194,1196,1198,1200,1202,1204,1206,1208,1210,1212,1214,1216,1218,1220,1222,1224,1226,1228,1230,1232,1234,1236,1238,1240,1242,1244,1246,1248,1250,1252,1254,1256,1258,1260,1262,1264,1266,1268,1270,1272,1274,1276,1278,1280,1282,1284,1286,1288,1290,1292,1294,1296,1298,1300,1302,1304,1306,1308,1310,1312,1314,1316,1318,1320,1322,1324,1326,1328,1330,1332,1334,1336,1338,1340,1342,1344,1346,1348,1350,1352,1354,1356,1358,1360,1362,1364,1366,1368,1370,1372,1374,1376,1378,1380,1382,1384,1386,1388,1390,1392,1394,1396,1398,1400,1402,1404,1406,1408,1410,1412,1414,1416,1418,1420,1422,1424,1426,1428,1430,1432,1434,1436,1438,1440,1442,1444,1446,1448,1450,1452,1454,1456,1458,1460,1462,1464,1466,1468,1470,1472,1474,1476,1478,1480,1482,1484,1486,1488,1490,1492,1494,1496,1498,1500,1502,1504,1506,1508,1510,1512,1514,1516,1518,1520,1522,1524,1526,1528,1530,1532,1534,1536,1538,1540,1542,1544,1546,1548,1550,1552,1554,1556,1558,1560,1562,1564,1566,1568,1570,1572,1574,1576,1578,1580,1582,1584,1586,1588,1590,1592,1594,1596,1598,1600,1602,1604,1606,1608,1610,1612,1614,1616,1618,1620,1622,1624,1626,1628,1630,1632,1634,1636,1638,1640,1642,1644,1646,1648,1650,1652,1654,1656,1658,1660,1662,1664,1666,1668,1670,1672,1674,1676,1678,1680,1682,1684,1686,1688,1690,1692,1694,1696,1698,1700,1702,1704,1706,1708,1710,1712,1714,1716,1718,1720,1722,1724,1726,1728,1730,1732,1734,1736,1738,1740,1742,1744,1746,1748,1750,1752,1754,1756,1758,1760,1762,1764,1766,1768,1770,1772,1774,1776,1778,1780,1782,1784,1786,1788,1790,1792,1794,1796,1798,1800,1802,1804,1806,1808,1810,1812,1814,1816,1818,1820,1822,1824,1826,1828,1830,1832,1834,1836,1838,1840,1842,1844,1846,1848,1850,1852,1854,1856,1858,1860,1862,1864,1866,1868,1870,1872,1874,1876,1878,1880,1882,1884,1886,1888,1890,1892,1894,1896,1898,1900,1902,1904,1906,1908,1910,1912,1914,1916,1918,1920,1922,1924,1926,1928,1930,1932,1934,1936,1938,1940,1942,1944,1946,1948,1950,1952,1954,1956,1958,1960,1962,1964,1966,1968,1970,1972,1974,1976,1978,1980,1982,1984,1986,1988,1990,1992,1994,1996,1998,2000'"
      ]
     },
     "execution_count": 49,
     "metadata": {},
     "output_type": "execute_result"
    }
   ],
   "source": [
    "even_list(1000,2000)"
   ]
  },
  {
   "cell_type": "markdown",
   "id": "0ebf2e24",
   "metadata": {},
   "source": [
    "### 4.Write a program that accepts a sentence and calculatesthe number of letters and digits.Suppose the entered string is: Python0325Then the output will be:LETTERS: 6DIGITS:4Hint: Use built-in functions of string."
   ]
  },
  {
   "cell_type": "code",
   "execution_count": 50,
   "id": "2c504b75",
   "metadata": {},
   "outputs": [],
   "source": [
    "def letter_digit_count(s):\n",
    "    letter=0\n",
    "    digit=0\n",
    "    for i in s:\n",
    "        if i.isdigit():\n",
    "            digit+=1\n",
    "        else:\n",
    "            letter+=1\n",
    "    print(f'Letters : {letter}, Digits : {digit}')"
   ]
  },
  {
   "cell_type": "code",
   "execution_count": 52,
   "id": "04b245e5",
   "metadata": {},
   "outputs": [
    {
     "name": "stdout",
     "output_type": "stream",
     "text": [
      "Letters : 6, Digits : 4\n"
     ]
    }
   ],
   "source": [
    "letter_digit_count('Python3259')"
   ]
  },
  {
   "cell_type": "markdown",
   "id": "24610aba",
   "metadata": {},
   "source": [
    "### 5.Design a code thatwill find whether the given number is a Palindrome number or not.Hint: Use built-in functions of string."
   ]
  },
  {
   "cell_type": "code",
   "execution_count": 56,
   "id": "f476daeb",
   "metadata": {},
   "outputs": [],
   "source": [
    "def palindrome(s):\n",
    "    s1=s[::-1]\n",
    "    if(s==s1):\n",
    "        print(\"it is a palindrome\")\n",
    "    else:\n",
    "        print(\"it is not a palindrome\")"
   ]
  },
  {
   "cell_type": "code",
   "execution_count": 57,
   "id": "f0b75c00",
   "metadata": {},
   "outputs": [
    {
     "name": "stdout",
     "output_type": "stream",
     "text": [
      "it is a palindrome\n"
     ]
    }
   ],
   "source": [
    "palindrome('mom')"
   ]
  },
  {
   "cell_type": "code",
   "execution_count": 58,
   "id": "035596b5",
   "metadata": {},
   "outputs": [
    {
     "name": "stdout",
     "output_type": "stream",
     "text": [
      "it is not a palindrome\n"
     ]
    }
   ],
   "source": [
    "palindrome('komal')"
   ]
  },
  {
   "cell_type": "code",
   "execution_count": null,
   "id": "caec9f54",
   "metadata": {},
   "outputs": [],
   "source": []
  }
 ],
 "metadata": {
  "kernelspec": {
   "display_name": "Python 3 (ipykernel)",
   "language": "python",
   "name": "python3"
  },
  "language_info": {
   "codemirror_mode": {
    "name": "ipython",
    "version": 3
   },
   "file_extension": ".py",
   "mimetype": "text/x-python",
   "name": "python",
   "nbconvert_exporter": "python",
   "pygments_lexer": "ipython3",
   "version": "3.10.9"
  }
 },
 "nbformat": 4,
 "nbformat_minor": 5
}

{
 "cells": [
  {
   "cell_type": "markdown",
   "id": "0bf260bf",
   "metadata": {},
   "source": [
    "\n",
    "Approach to SolveYou mustuse the fundamentals of Python taught in module \n",
    "\n",
    "1.Read the input from the command line –Reference ID\n",
    "\n",
    "2.Check for validity –it should be 12 digits and allows fornumber and alphabet\n",
    "\n",
    "3.Encrypt the Reference ID and print it for referenceEnhancements for code\n",
    "\n",
    "You can try these enhancements in code\n",
    "\n",
    "1.Allow some special characters in ReferenceID\n",
    "\n",
    "2.Give the option for decryption to the user "
   ]
  },
  {
   "cell_type": "code",
   "execution_count": 3,
   "id": "dfe49fbf",
   "metadata": {},
   "outputs": [
    {
     "name": "stdout",
     "output_type": "stream",
     "text": [
      "Enter 1 for Encryption or 2 for Decryption: 1\n",
      "Enter the 12-digit Reference ID: 1ajcnejk@873\n",
      "Encrypted Reference ID: 6fohsjopE=<8\n"
     ]
    }
   ],
   "source": [
    "import string\n",
    "\n",
    "def is_valid_reference_id(reference_id):\n",
    "    # Check if the reference ID is exactly 12 characters long and contains only alphanumeric and allowed special characters.\n",
    "    allowed_characters = string.ascii_letters + string.digits + \"$#@&!\"\n",
    "    return len(reference_id) == 12 and all(char in allowed_characters for char in reference_id)\n",
    "\n",
    "def encrypt_reference_id(reference_id):\n",
    "    key = 5  # Encryption key (you can choose any positive integer as the key)\n",
    "    encrypted_id = \"\"\n",
    "\n",
    "    for char in reference_id:\n",
    "        encrypted_char = chr((ord(char) + key) % 128)  # Simple shift cipher# %128 as it should bbe in ASCII range\n",
    "        encrypted_id += encrypted_char\n",
    "\n",
    "    return encrypted_id\n",
    "def decrypt_reference_id(encrypted_id):\n",
    "    key = 5  # Encryption key (should be the same as used during encryption)\n",
    "    decrypted_id = \"\"\n",
    "\n",
    "    for char in encrypted_id:\n",
    "        decrypted_char = chr((ord(char) - key) % 128)  # Reverse shift for decryption# chr->int to char, ord-> char->int\n",
    "        decrypted_id += decrypted_char\n",
    "\n",
    "    return decrypted_id\n",
    "\n",
    "if __name__ == \"__main__\":\n",
    "    option = int(input(\"Enter 1 for Encryption or 2 for Decryption: \"))\n",
    "\n",
    "    if option == 1:\n",
    "        reference_id = input(\"Enter the 12-digit Reference ID: \")\n",
    "\n",
    "        if is_valid_reference_id(reference_id):\n",
    "            encrypted_id = encrypt_reference_id(reference_id)\n",
    "            print(\"Encrypted Reference ID:\", encrypted_id)\n",
    "        else:\n",
    "            print(\"Invalid Reference ID. It should be 12 digits and contain only alphanumeric and allowed special characters.\")\n",
    "    elif option == 2:\n",
    "        encrypted_id = input(\"Enter the encrypted Reference ID: \")\n",
    "        decrypted_id = decrypt_reference_id(encrypted_id)\n",
    "        print(\"Decrypted Reference ID:\", decrypted_id)\n",
    "    else:\n",
    "        print(\"Invalid option. Please choose 1 for Encryption or 2 for Decryption.\")"
   ]
  },
  {
   "cell_type": "code",
   "execution_count": null,
   "id": "4135bea6",
   "metadata": {},
   "outputs": [],
   "source": []
  }
 ],
 "metadata": {
  "kernelspec": {
   "display_name": "Python 3 (ipykernel)",
   "language": "python",
   "name": "python3"
  },
  "language_info": {
   "codemirror_mode": {
    "name": "ipython",
    "version": 3
   },
   "file_extension": ".py",
   "mimetype": "text/x-python",
   "name": "python",
   "nbconvert_exporter": "python",
   "pygments_lexer": "ipython3",
   "version": "3.10.9"
  }
 },
 "nbformat": 4,
 "nbformat_minor": 5
}

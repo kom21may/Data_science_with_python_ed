{
 "cells": [
  {
   "cell_type": "markdown",
   "id": "c4709ad7",
   "metadata": {},
   "source": [
    "### 1.What is the output of the following code?nums =set([1,1,2,3,3,3,4,4])print(len(nums))Hint:Set consists of aunique element."
   ]
  },
  {
   "cell_type": "code",
   "execution_count": 1,
   "id": "a9bbf736",
   "metadata": {},
   "outputs": [
    {
     "name": "stdout",
     "output_type": "stream",
     "text": [
      "4\n"
     ]
    }
   ],
   "source": [
    "nums=set([1,1,2,3,3,3,4,4])\n",
    "print(len(nums))"
   ]
  },
  {
   "cell_type": "markdown",
   "id": "55463a59",
   "metadata": {},
   "source": [
    "Answer-> as set includes only unique element so here nums=1,2,3,4 uniquely present ans length of this nums will become 4"
   ]
  },
  {
   "cell_type": "markdown",
   "id": "8445c45f",
   "metadata": {},
   "source": [
    "#### 2.What will be the output?d ={\"john\":40, \"peter\":45}\n",
    "#### print(list(d.keys()))\n",
    "Hint:d.keys()isthefunctionthatwillshowkeys."
   ]
  },
  {
   "cell_type": "code",
   "execution_count": 2,
   "id": "ef078889",
   "metadata": {},
   "outputs": [
    {
     "name": "stdout",
     "output_type": "stream",
     "text": [
      "['john', 'Peter']\n"
     ]
    }
   ],
   "source": [
    "d={'john':40,'Peter':45}\n",
    "print(list(d.keys()))"
   ]
  },
  {
   "cell_type": "markdown",
   "id": "092508b0",
   "metadata": {},
   "source": [
    "d.keys() will print all the keys in the dict and d.values() will print all the values in the dict"
   ]
  },
  {
   "cell_type": "markdown",
   "id": "a1054916",
   "metadata": {},
   "source": [
    " 3.A website requires a user to input a username and password to register. \n",
    "Write a program to check the validity of the password given by the user. \n",
    "Following are the criteria for checking password:\n",
    "\n",
    "1. At least 1 letter between [a-z]\n",
    "2. At least 1 number between [0-9]\n",
    "3. At least 1 letter between [A-Z]\n",
    "\n",
    "4. At least 1 character from [$#@]\n",
    "4. Minimum length of transaction password: 6\n",
    "5. Maximum length of transaction password: 12\n",
    "Hint: In the case of input data being supplied to the question, it should be assumed to be a console input.\n"
   ]
  },
  {
   "cell_type": "code",
   "execution_count": 33,
   "id": "5e13c62d",
   "metadata": {},
   "outputs": [],
   "source": [
    "import re\n",
    "def pass_validation(s):\n",
    "    if 6<=len(s)<=12 and re.search(r'[a-z]',s) and re.search(r'[A-Z]',s) and re.search(r'[0-9]',s) and re.search(r'[$#@]',s):\n",
    "            return \"password validated\"\n",
    "    else:\n",
    "        return \"Password not valid\""
   ]
  },
  {
   "cell_type": "code",
   "execution_count": 34,
   "id": "7ef020c4",
   "metadata": {},
   "outputs": [
    {
     "data": {
      "text/plain": [
       "'password validated'"
      ]
     },
     "execution_count": 34,
     "metadata": {},
     "output_type": "execute_result"
    }
   ],
   "source": [
    "pass_validation('kOmal@123')"
   ]
  },
  {
   "cell_type": "markdown",
   "id": "a25f4a94",
   "metadata": {},
   "source": [
    "#### 4.Write a for loop that prints all elements of a list and their position in the list.a = [4,7,3,2,5,9] Hint: Use Loop to iterate through list elements."
   ]
  },
  {
   "cell_type": "code",
   "execution_count": 41,
   "id": "71b94357",
   "metadata": {},
   "outputs": [
    {
     "name": "stdout",
     "output_type": "stream",
     "text": [
      "Element at position 0: 4\n",
      "Element at position 1: 7\n",
      "Element at position 2: 3\n",
      "Element at position 3: 2\n",
      "Element at position 4: 5\n",
      "Element at position 5: 9\n"
     ]
    }
   ],
   "source": [
    "a = [4, 7, 3, 2, 5, 9]\n",
    "\n",
    "for index, element in enumerate(a):\n",
    "    print(f\"Element at position {index}: {element}\")"
   ]
  },
  {
   "cell_type": "markdown",
   "id": "164e75a6",
   "metadata": {},
   "source": [
    "#### 5.Please  write  a  program thataccepts  a  string  from the console  and  \n",
    "#### print  the characters that have even indexes.\n",
    "#### Example: If the following string is given as input to the program:H1e2l3l4o5w6o7r8l9dThen, the output of the program should be:Helloworld"
   ]
  },
  {
   "cell_type": "code",
   "execution_count": 44,
   "id": "7043af26",
   "metadata": {},
   "outputs": [],
   "source": [
    "def string_ateven(s):\n",
    "    l=[]\n",
    "    for i in range(len(s)):\n",
    "        \n",
    "        if i%2==0:\n",
    "            l.append(s[i])\n",
    "    return \"\".join(l)\n",
    "            "
   ]
  },
  {
   "cell_type": "code",
   "execution_count": 45,
   "id": "112ee3fb",
   "metadata": {},
   "outputs": [
    {
     "data": {
      "text/plain": [
       "'Helloworld'"
      ]
     },
     "execution_count": 45,
     "metadata": {},
     "output_type": "execute_result"
    }
   ],
   "source": [
    "string_ateven(\"H1e2l3l4o5w6o7r8l9d\")"
   ]
  },
  {
   "cell_type": "code",
   "execution_count": 46,
   "id": "26a72238",
   "metadata": {},
   "outputs": [],
   "source": [
    "#or\n",
    "def string_atevn(s1):\n",
    "    result=s1[::2]\n",
    "    return result"
   ]
  },
  {
   "cell_type": "code",
   "execution_count": 47,
   "id": "7b2b691d",
   "metadata": {},
   "outputs": [
    {
     "data": {
      "text/plain": [
       "'Helloworld'"
      ]
     },
     "execution_count": 47,
     "metadata": {},
     "output_type": "execute_result"
    }
   ],
   "source": [
    "string_atevn(\"H1e2l3l4o5w6o7r8l9d\")"
   ]
  },
  {
   "cell_type": "markdown",
   "id": "a7bc75dc",
   "metadata": {},
   "source": [
    "### 6.Please write a program thataccepts a string from the console and print it in reverse order.Example: If the following string is given as input to the program: rise to vote sirThen, the output of the program should be:ris etov ot esir"
   ]
  },
  {
   "cell_type": "code",
   "execution_count": 60,
   "id": "4e8e81fe",
   "metadata": {},
   "outputs": [],
   "source": [
    "def reverse_st(s):\n",
    "    return s[::-1]"
   ]
  },
  {
   "cell_type": "code",
   "execution_count": 62,
   "id": "9c13b6c9",
   "metadata": {},
   "outputs": [
    {
     "data": {
      "text/plain": [
       "'ris etov ot esir'"
      ]
     },
     "execution_count": 62,
     "metadata": {},
     "output_type": "execute_result"
    }
   ],
   "source": [
    "reverse_st('rise to vote sir')"
   ]
  },
  {
   "cell_type": "markdown",
   "id": "fbb4c593",
   "metadata": {},
   "source": [
    "### Please write a program thatcountsand printsthe numbers of each character in a string input by the console.Example: If the following string is given as input to the program:abcdefgabcThen, the output of the program should be:a,2c,2b,2e,1d,1g,1f,18"
   ]
  },
  {
   "cell_type": "code",
   "execution_count": 64,
   "id": "7f29addd",
   "metadata": {},
   "outputs": [],
   "source": [
    "def str_count(s):\n",
    "    count={}\n",
    "    for i in s:\n",
    "        if i in count:\n",
    "            count[i]+=1\n",
    "        else:\n",
    "            \n",
    "            count[i]=1\n",
    "    return count\n",
    "        "
   ]
  },
  {
   "cell_type": "code",
   "execution_count": 65,
   "id": "29904837",
   "metadata": {},
   "outputs": [
    {
     "data": {
      "text/plain": [
       "{'a': 2, 'b': 2, 'c': 2, 'd': 1, 'e': 1, 'f': 1, 'g': 1}"
      ]
     },
     "execution_count": 65,
     "metadata": {},
     "output_type": "execute_result"
    }
   ],
   "source": [
    "str_count(\"abcdefgabc\")"
   ]
  },
  {
   "cell_type": "markdown",
   "id": "c3fc831a",
   "metadata": {},
   "source": [
    "### 8.With   two   given   lists   [1,3,6,78,35,55]   and   [12,24,35,24,88,120,155],   write   a program to make a list whose elements are intersection of the above given lists."
   ]
  },
  {
   "cell_type": "code",
   "execution_count": 68,
   "id": "6eea2a00",
   "metadata": {},
   "outputs": [],
   "source": [
    "def intersect(l1,l2):\n",
    "    s1=set(l1)\n",
    "    s2=set(l2)\n",
    "    print(list(s1.intersection(s2)))"
   ]
  },
  {
   "cell_type": "code",
   "execution_count": 69,
   "id": "b8bc2b90",
   "metadata": {},
   "outputs": [
    {
     "name": "stdout",
     "output_type": "stream",
     "text": [
      "[35]\n"
     ]
    }
   ],
   "source": [
    "intersect([1,3,6,78,35,55],[12,24,35,24,88,120,155])"
   ]
  },
  {
   "cell_type": "markdown",
   "id": "e26f7cc5",
   "metadata": {},
   "source": [
    "### 9.By using list comprehension, please write a program to print the list after removing the value 24 in [12,24,35,24,88,120,155]"
   ]
  },
  {
   "cell_type": "code",
   "execution_count": 71,
   "id": "d79127ae",
   "metadata": {},
   "outputs": [
    {
     "name": "stdout",
     "output_type": "stream",
     "text": [
      "[12, 35, 88, 120, 155]\n"
     ]
    }
   ],
   "source": [
    "l=[x for x in [12,24,35,24,88,120,155] if x!=24]\n",
    "print(l)"
   ]
  },
  {
   "cell_type": "markdown",
   "id": "bd9f9112",
   "metadata": {},
   "source": [
    "### By using list comprehension, please write a program to print the list after removing the 0th,4th,and 5th numbers in [12,24,35,70,88,120,155"
   ]
  },
  {
   "cell_type": "code",
   "execution_count": 73,
   "id": "84d46230",
   "metadata": {},
   "outputs": [
    {
     "data": {
      "text/plain": [
       "[24, 35, 70, 155]"
      ]
     },
     "execution_count": 73,
     "metadata": {},
     "output_type": "execute_result"
    }
   ],
   "source": [
    "li=[12,24,35,70,88,120,155]\n",
    "index_to_remove=[0,4,5]\n",
    "li_new=[x for i,x in enumerate(li) if i not in index_to_remove]\n",
    "li_new"
   ]
  },
  {
   "cell_type": "markdown",
   "id": "b39d6aa4",
   "metadata": {},
   "source": [
    "### By using list comprehension, please write a program to print the list after removing deletednumbers thatare divisible by 5 and 7 in [12,24,35,70,88,120,155]."
   ]
  },
  {
   "cell_type": "code",
   "execution_count": 77,
   "id": "49765d55",
   "metadata": {},
   "outputs": [
    {
     "data": {
      "text/plain": [
       "[12, 24, 88, 120, 155]"
      ]
     },
     "execution_count": 77,
     "metadata": {},
     "output_type": "execute_result"
    }
   ],
   "source": [
    "li=[12,24,35,70,88,120,155]\n",
    "li_new=[x for x in li if x%5!=0 or x%7!=0]\n",
    "li_new"
   ]
  },
  {
   "cell_type": "markdown",
   "id": "bf75cd4d",
   "metadata": {},
   "source": [
    "### 12.Write  a  program  to  compute  1/2+2/3+3/4+...+n/n+1  with  a  given  n  input  by console (n>0).Example:If the following n is given as input to the program:5Then, the output of the program should be:3.55"
   ]
  },
  {
   "cell_type": "code",
   "execution_count": 84,
   "id": "c61eca9a",
   "metadata": {},
   "outputs": [],
   "source": [
    "def sum_fraction(n):\n",
    "    count=0\n",
    "    for i in range(1,n+1):\n",
    "        count+=i/(i+1)\n",
    "    return round(count, 2)\n",
    "        "
   ]
  },
  {
   "cell_type": "code",
   "execution_count": 85,
   "id": "54384592",
   "metadata": {},
   "outputs": [
    {
     "data": {
      "text/plain": [
       "3.55"
      ]
     },
     "execution_count": 85,
     "metadata": {},
     "output_type": "execute_result"
    }
   ],
   "source": [
    "sum_fraction(5)"
   ]
  },
  {
   "cell_type": "code",
   "execution_count": null,
   "id": "45c40a53",
   "metadata": {},
   "outputs": [],
   "source": []
  }
 ],
 "metadata": {
  "kernelspec": {
   "display_name": "Python 3 (ipykernel)",
   "language": "python",
   "name": "python3"
  },
  "language_info": {
   "codemirror_mode": {
    "name": "ipython",
    "version": 3
   },
   "file_extension": ".py",
   "mimetype": "text/x-python",
   "name": "python",
   "nbconvert_exporter": "python",
   "pygments_lexer": "ipython3",
   "version": "3.10.9"
  }
 },
 "nbformat": 4,
 "nbformat_minor": 5
}

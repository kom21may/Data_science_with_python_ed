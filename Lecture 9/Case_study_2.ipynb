{
 "cells": [
  {
   "cell_type": "markdown",
   "id": "80de80f1",
   "metadata": {},
   "source": [
    "1.Load the kinematics dataset as measured on mobile sensors from the file “run_or_walk.csv”. List out the columns in the dataset"
   ]
  },
  {
   "cell_type": "code",
   "execution_count": 94,
   "id": "d5e2d6a9",
   "metadata": {},
   "outputs": [],
   "source": [
    "import pandas as pd\n",
    "import matplotlib.pyplot as plt\n",
    "import numpy as np\n",
    "import seaborn as sns\n",
    "from sklearn.model_selection import train_test_split"
   ]
  },
  {
   "cell_type": "code",
   "execution_count": 95,
   "id": "3a7767fb",
   "metadata": {},
   "outputs": [],
   "source": [
    "data=pd.read_csv('run_or_walk.csv')\n",
    "data.head(3)"
   ]
  },
  {
   "cell_type": "code",
   "execution_count": 96,
   "id": "5d362e9b",
   "metadata": {},
   "outputs": [],
   "source": [
    "data.columns"
   ]
  },
  {
   "cell_type": "code",
   "execution_count": 97,
   "id": "9c68a1da",
   "metadata": {},
   "outputs": [],
   "source": [
    "data['username'].unique()"
   ]
  },
  {
   "cell_type": "markdown",
   "id": "40d9e977",
   "metadata": {},
   "source": [
    "2.Let the target variable ‘y’ be the activity and assign all the columns after it to ‘x’"
   ]
  },
  {
   "cell_type": "code",
   "execution_count": 98,
   "id": "4598e136",
   "metadata": {},
   "outputs": [],
   "source": [
    "y=data['activity']\n",
    "x=data.drop(['activity'],axis=1)"
   ]
  },
  {
   "cell_type": "markdown",
   "id": "7ddc4d45",
   "metadata": {},
   "source": [
    "3.Using Scikit-learn fit a Gaussian Naive Bayes model and observe the accuracy.Generate a classification report using scikit learn."
   ]
  },
  {
   "cell_type": "code",
   "execution_count": 99,
   "id": "cecbe855",
   "metadata": {},
   "outputs": [],
   "source": [
    "from sklearn.naive_bayes import MultinomialNB\n",
    "from sklearn.metrics import classification_report,accuracy_score"
   ]
  },
  {
   "cell_type": "code",
   "execution_count": 100,
   "id": "66d291d0",
   "metadata": {},
   "outputs": [],
   "source": [
    "nb=MultinomialNB()"
   ]
  },
  {
   "cell_type": "code",
   "execution_count": 101,
   "id": "b9e55e25",
   "metadata": {},
   "outputs": [],
   "source": [
    "x.head(2)"
   ]
  },
  {
   "cell_type": "code",
   "execution_count": 102,
   "id": "c7f066ff",
   "metadata": {},
   "outputs": [],
   "source": [
    "categorical_feat=[]\n",
    "numerical_feat=[]\n",
    "for i in x.columns:\n",
    "    \n",
    "    if x[i].dtype=='O':\n",
    "        categorical_feat.append(i)\n",
    "    else:\n",
    "        numerical_feat.append(i)\n",
    "        \n",
    "        "
   ]
  },
  {
   "cell_type": "code",
   "execution_count": 103,
   "id": "0aa932ef",
   "metadata": {},
   "outputs": [],
   "source": [
    "categorical_feat"
   ]
  },
  {
   "cell_type": "code",
   "execution_count": 104,
   "id": "9dd03533",
   "metadata": {},
   "outputs": [],
   "source": [
    "numerical_feat"
   ]
  },
  {
   "cell_type": "code",
   "execution_count": 105,
   "id": "426282a5",
   "metadata": {},
   "outputs": [],
   "source": [
    "x.shape"
   ]
  },
  {
   "cell_type": "code",
   "execution_count": 106,
   "id": "a0c4c7b2",
   "metadata": {},
   "outputs": [],
   "source": [
    "x.isnull().sum()"
   ]
  },
  {
   "cell_type": "code",
   "execution_count": 107,
   "id": "5bc0e012",
   "metadata": {},
   "outputs": [],
   "source": [
    "x['username'].unique()"
   ]
  },
  {
   "cell_type": "code",
   "execution_count": 108,
   "id": "1127f868",
   "metadata": {},
   "outputs": [],
   "source": [
    "x['username']=x['username'].map({'victor':1})"
   ]
  },
  {
   "cell_type": "code",
   "execution_count": 109,
   "id": "e2ec575b",
   "metadata": {},
   "outputs": [],
   "source": [
    "x['time'].unique()"
   ]
  },
  {
   "cell_type": "code",
   "execution_count": 110,
   "id": "3ebf9922",
   "metadata": {},
   "outputs": [],
   "source": [
    "x['date'].unique()"
   ]
  },
  {
   "cell_type": "code",
   "execution_count": 111,
   "id": "24ad1b45",
   "metadata": {},
   "outputs": [],
   "source": [
    "x['date_int']=pd.to_datetime(x['date'])\n",
    "x['date_int_type']=x['date_int'].dt.strftime('%Y%m%d').astype(int)\n",
    "x.drop(['date_int','date'],axis=1,inplace=True)"
   ]
  },
  {
   "cell_type": "code",
   "execution_count": 112,
   "id": "c5d6e767",
   "metadata": {},
   "outputs": [],
   "source": [
    "x['date_int_type'].dtype"
   ]
  },
  {
   "cell_type": "code",
   "execution_count": 113,
   "id": "677b9583",
   "metadata": {},
   "outputs": [],
   "source": [
    "x['time_column'] = pd.to_datetime(x['time'], format='%H:%M:%S:%f')\n",
    "\n",
    "# Convert the time values to the total number of milliseconds\n",
    "x['time_in_milliseconds'] = (x['time_column'].astype('int64') / 10**60).astype(int)\n",
    "\n",
    "# Convert the time values to the total number of seconds\n",
    "x['time_in_seconds'] =(x['time_column'].astype('int64') / 10**9).astype(int)\n",
    "\n",
    "# If you want to keep only the numeric column and drop the original time_column\n",
    "x.drop(columns=['time_column'], inplace=True)"
   ]
  },
  {
   "cell_type": "code",
   "execution_count": 114,
   "id": "d0bf805f",
   "metadata": {},
   "outputs": [],
   "source": [
    "x.head(3)"
   ]
  },
  {
   "cell_type": "code",
   "execution_count": 115,
   "id": "13be2471",
   "metadata": {},
   "outputs": [],
   "source": [
    "x.describe()"
   ]
  },
  {
   "cell_type": "code",
   "execution_count": 116,
   "id": "c712fc1b",
   "metadata": {},
   "outputs": [],
   "source": [
    "X_train, X_test, y_train, y_test = train_test_split(x,y, test_size=0.2, random_state=42)\n",
    "nb.fit(X_train,y_train)"
   ]
  },
  {
   "cell_type": "code",
   "execution_count": 117,
   "id": "4786966f",
   "metadata": {},
   "outputs": [],
   "source": [
    "y_pred=nb.predict(X_test)"
   ]
  },
  {
   "cell_type": "code",
   "execution_count": 118,
   "id": "9f1e7fd5",
   "metadata": {},
   "outputs": [],
   "source": [
    "print(classification_report(y_test,y_pred))"
   ]
  },
  {
   "cell_type": "code",
   "execution_count": 119,
   "id": "d5d7abb8",
   "metadata": {},
   "outputs": [],
   "source": [
    "accuracy_score(y_test,y_pred)"
   ]
  },
  {
   "cell_type": "markdown",
   "id": "88cf565b",
   "metadata": {},
   "source": [
    "4.Repeat the model once using only the acceleration values as predictors and then using only the gyro values as predictors. Comment on the difference in accuracy between both the models."
   ]
  },
  {
   "cell_type": "code",
   "execution_count": 120,
   "id": "75c17b93",
   "metadata": {},
   "outputs": [],
   "source": [
    "x_acceleration=x[['acceleration_x','acceleration_y','acceleration_z']]\n",
    "y=data['activity']"
   ]
  },
  {
   "cell_type": "code",
   "execution_count": 121,
   "id": "d5ae6b68",
   "metadata": {},
   "outputs": [],
   "source": [
    "nb.fit(x,y)"
   ]
  },
  {
   "cell_type": "code",
   "execution_count": 122,
   "id": "5b8c33ee",
   "metadata": {},
   "outputs": [],
   "source": [
    "y_pred=nb.predict(x)"
   ]
  },
  {
   "cell_type": "code",
   "execution_count": 123,
   "id": "f93803c6",
   "metadata": {},
   "outputs": [],
   "source": [
    "accuracy_score(y_test,y_pred)"
   ]
  },
  {
   "cell_type": "code",
   "execution_count": 124,
   "id": "6e72968c",
   "metadata": {},
   "outputs": [],
   "source": [
    "x_gyro=x[['gyro_x','gyro_y','gyro_x']]\n",
    "nb.fit(x_gyro,y)"
   ]
  },
  {
   "cell_type": "code",
   "execution_count": 125,
   "id": "acd08397",
   "metadata": {},
   "outputs": [],
   "source": [
    "y_pred=nb.predict(x_gyro)"
   ]
  },
  {
   "cell_type": "code",
   "execution_count": 126,
   "id": "27e5a6ba",
   "metadata": {},
   "outputs": [],
   "source": [
    "accuracy_score(y_test,y_pred)"
   ]
  },
  {
   "cell_type": "code",
   "execution_count": null,
   "id": "996e1737",
   "metadata": {},
   "outputs": [],
   "source": [
    " "
   ]
  },
  {
   "cell_type": "code",
   "execution_count": null,
   "id": "af745185",
   "metadata": {},
   "outputs": [],
   "source": []
  }
 ],
 "metadata": {
  "kernelspec": {
   "display_name": "Python 3 (ipykernel)",
   "language": "python",
   "name": "python3"
  },
  "language_info": {
   "codemirror_mode": {
    "name": "ipython",
    "version": 3
   },
   "file_extension": ".py",
   "mimetype": "text/x-python",
   "name": "python",
   "nbconvert_exporter": "python",
   "pygments_lexer": "ipython3",
   "version": "3.10.9"
  }
 },
 "nbformat": 4,
 "nbformat_minor": 5
}

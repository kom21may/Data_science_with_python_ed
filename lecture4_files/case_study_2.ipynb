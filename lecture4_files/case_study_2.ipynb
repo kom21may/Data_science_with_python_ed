{
 "cells": [
  {
   "cell_type": "markdown",
   "id": "2cd48a29",
   "metadata": {},
   "source": [
    "Domain –Educationfocus –Data analysisBusiness challenge/requirementYou are a data analyst with the University of Cal USA (Not a machine learning expert yet as you still have not completed the ML with Python Course :-)). \n",
    "\n",
    "TheUniversity has data on Math, Physics,and Data Structure scoresof sophomore students. This data is stored in different files. The University has hired a data science company to do an analysis of scores and find if there is any correlation between scores with age, ethnicity,etc. Before the data is given to the company you have to do data wrangling.Key issuesEnsure student’s identity is not revealed   to the agency and only relevant data is shared \n",
    "\n",
    "Considerations NONE Data volume-In thousands, but only around 1800 records are shared in files MathScoreTerm1.csv DSScoreTerm1.csv, PhysicsScoreTerm1.csvAdditional information-NABusiness benefitsUniversity can get more students enrollment by improving their international ranking through personalized courses/curriculafor students\n",
    "\n",
    "Approach to SolveYou have to use the fundamentals of Numpy and Pandas covered in module 4.  \n",
    "\n",
    "\n",
    "1.Read the three CSVfiles which contain the score of the same students in term1 ofeach Subject\n",
    "\n",
    "2.Remove the name and ethnicity column (to ensure confidentiality)\n",
    "\n",
    "3.Fill missing score data with zero\n",
    "\n",
    "4.Merge the three files\n",
    "\n",
    "5.Change Sex(M/F) Columnto 1/2 for further analysis\n",
    "\n",
    "6.Store the data in a new file –ScoreFinal.csvEnhancements for code\n",
    "\n",
    "You can try these enhancements in code\n",
    "\n",
    "1.Convert ethnicity to a numericalvalue\n",
    "\n",
    "2.Fill the missing score for a student to the average of the class"
   ]
  },
  {
   "cell_type": "code",
   "execution_count": 2,
   "id": "9344670d",
   "metadata": {},
   "outputs": [],
   "source": [
    "import pandas as pd\n",
    "import numpy as np"
   ]
  },
  {
   "cell_type": "code",
   "execution_count": 3,
   "id": "822472a5",
   "metadata": {},
   "outputs": [],
   "source": [
    "#1.Read the three CSVfiles which contain the score of the same students in term1 ofeach Subject\n",
    "\n",
    "DS=pd.read_csv('DSScoreTerm1.csv')\n",
    "math=pd.read_csv('MathScoreTerm1.csv')\n",
    "phy=pd.read_csv('PhysicsScoreTerm1.csv')"
   ]
  },
  {
   "cell_type": "code",
   "execution_count": 27,
   "id": "f6c39a5d",
   "metadata": {},
   "outputs": [],
   "source": [
    "#2.Remove the name and ethnicity column (to ensure confidentiality)\n",
    "ds_new=DS.drop(['Name','Ethinicity'],axis=1)\n",
    "\n",
    "math_new=math.drop(['Name','Ethinicity'],axis=1)\n",
    "phy_new=phy.drop(['Name','Ethinicity'],axis=1)"
   ]
  },
  {
   "cell_type": "code",
   "execution_count": 17,
   "id": "a0843475",
   "metadata": {},
   "outputs": [
    {
     "data": {
      "text/plain": [
       "Score      8\n",
       "Age        0\n",
       "Subject    0\n",
       "Sex        0\n",
       "ID         0\n",
       "dtype: int64"
      ]
     },
     "execution_count": 17,
     "metadata": {},
     "output_type": "execute_result"
    }
   ],
   "source": [
    "#3.Fill missing score data with zero\n",
    "ds_new.isnull().sum()"
   ]
  },
  {
   "cell_type": "code",
   "execution_count": 28,
   "id": "22fd7ca3",
   "metadata": {},
   "outputs": [
    {
     "data": {
      "text/plain": [
       "Score      3\n",
       "Age        0\n",
       "Subject    0\n",
       "Sex        0\n",
       "ID         0\n",
       "dtype: int64"
      ]
     },
     "execution_count": 28,
     "metadata": {},
     "output_type": "execute_result"
    }
   ],
   "source": [
    "math_new.isnull().sum()"
   ]
  },
  {
   "cell_type": "code",
   "execution_count": 29,
   "id": "a72d7260",
   "metadata": {},
   "outputs": [
    {
     "data": {
      "text/plain": [
       "Score      6\n",
       "Age        0\n",
       "Subject    0\n",
       "Sex        0\n",
       "ID         0\n",
       "dtype: int64"
      ]
     },
     "execution_count": 29,
     "metadata": {},
     "output_type": "execute_result"
    }
   ],
   "source": [
    "phy_new.isnull().sum()"
   ]
  },
  {
   "cell_type": "markdown",
   "id": "204e43de",
   "metadata": {},
   "source": [
    "#### so here Score has 8 value which is null so we can impute it to mean"
   ]
  },
  {
   "cell_type": "code",
   "execution_count": 30,
   "id": "759c139f",
   "metadata": {},
   "outputs": [],
   "source": [
    "ds_new.fillna(np.mean(ds_new[['Score']]),inplace=True)\n",
    "math_new.fillna(np.mean(math_new[['Score']]),inplace=True)\n",
    "phy_new.fillna(np.mean(phy_new[['Score']]),inplace=True)"
   ]
  },
  {
   "cell_type": "code",
   "execution_count": 31,
   "id": "25ef8b94",
   "metadata": {},
   "outputs": [
    {
     "data": {
      "text/plain": [
       "Score      0\n",
       "Age        0\n",
       "Subject    0\n",
       "Sex        0\n",
       "ID         0\n",
       "dtype: int64"
      ]
     },
     "execution_count": 31,
     "metadata": {},
     "output_type": "execute_result"
    }
   ],
   "source": [
    "ds_new.isnull().sum()"
   ]
  },
  {
   "cell_type": "code",
   "execution_count": 36,
   "id": "fb9260cc",
   "metadata": {},
   "outputs": [],
   "source": [
    "#4.Merge the three files\n",
    "whole_dataset_1=pd.merge(ds_new,math_new,on=['ID','Sex'])\n",
    "whole_dataset_2=pd.merge(whole_dataset_1,phy_new,on=['ID','Sex'])"
   ]
  },
  {
   "cell_type": "code",
   "execution_count": 38,
   "id": "1904f881",
   "metadata": {},
   "outputs": [
    {
     "data": {
      "text/html": [
       "<div>\n",
       "<style scoped>\n",
       "    .dataframe tbody tr th:only-of-type {\n",
       "        vertical-align: middle;\n",
       "    }\n",
       "\n",
       "    .dataframe tbody tr th {\n",
       "        vertical-align: top;\n",
       "    }\n",
       "\n",
       "    .dataframe thead th {\n",
       "        text-align: right;\n",
       "    }\n",
       "</style>\n",
       "<table border=\"1\" class=\"dataframe\">\n",
       "  <thead>\n",
       "    <tr style=\"text-align: right;\">\n",
       "      <th></th>\n",
       "      <th>Score_x</th>\n",
       "      <th>Age_x</th>\n",
       "      <th>Subject_x</th>\n",
       "      <th>Sex</th>\n",
       "      <th>ID</th>\n",
       "      <th>Score_y</th>\n",
       "      <th>Age_y</th>\n",
       "      <th>Subject_y</th>\n",
       "      <th>Score</th>\n",
       "      <th>Age</th>\n",
       "      <th>Subject</th>\n",
       "    </tr>\n",
       "  </thead>\n",
       "  <tbody>\n",
       "    <tr>\n",
       "      <th>0</th>\n",
       "      <td>82.0</td>\n",
       "      <td>18</td>\n",
       "      <td>Data Structue</td>\n",
       "      <td>M</td>\n",
       "      <td>1</td>\n",
       "      <td>88.0</td>\n",
       "      <td>18</td>\n",
       "      <td>Maths</td>\n",
       "      <td>84.0</td>\n",
       "      <td>18</td>\n",
       "      <td>Physics</td>\n",
       "    </tr>\n",
       "    <tr>\n",
       "      <th>1</th>\n",
       "      <td>79.0</td>\n",
       "      <td>19</td>\n",
       "      <td>Data Structue</td>\n",
       "      <td>M</td>\n",
       "      <td>2</td>\n",
       "      <td>85.0</td>\n",
       "      <td>19</td>\n",
       "      <td>Maths</td>\n",
       "      <td>81.0</td>\n",
       "      <td>19</td>\n",
       "      <td>Physics</td>\n",
       "    </tr>\n",
       "    <tr>\n",
       "      <th>2</th>\n",
       "      <td>39.0</td>\n",
       "      <td>19</td>\n",
       "      <td>Data Structue</td>\n",
       "      <td>M</td>\n",
       "      <td>3</td>\n",
       "      <td>45.0</td>\n",
       "      <td>19</td>\n",
       "      <td>Maths</td>\n",
       "      <td>41.0</td>\n",
       "      <td>19</td>\n",
       "      <td>Physics</td>\n",
       "    </tr>\n",
       "    <tr>\n",
       "      <th>3</th>\n",
       "      <td>76.0</td>\n",
       "      <td>18</td>\n",
       "      <td>Data Structue</td>\n",
       "      <td>M</td>\n",
       "      <td>4</td>\n",
       "      <td>82.0</td>\n",
       "      <td>18</td>\n",
       "      <td>Maths</td>\n",
       "      <td>78.0</td>\n",
       "      <td>18</td>\n",
       "      <td>Physics</td>\n",
       "    </tr>\n",
       "    <tr>\n",
       "      <th>4</th>\n",
       "      <td>76.0</td>\n",
       "      <td>18</td>\n",
       "      <td>Data Structue</td>\n",
       "      <td>F</td>\n",
       "      <td>5</td>\n",
       "      <td>82.0</td>\n",
       "      <td>18</td>\n",
       "      <td>Maths</td>\n",
       "      <td>78.0</td>\n",
       "      <td>18</td>\n",
       "      <td>Physics</td>\n",
       "    </tr>\n",
       "  </tbody>\n",
       "</table>\n",
       "</div>"
      ],
      "text/plain": [
       "   Score_x  Age_x      Subject_x Sex  ID  Score_y  Age_y Subject_y  Score   \n",
       "0     82.0     18  Data Structue   M   1     88.0     18     Maths   84.0  \\\n",
       "1     79.0     19  Data Structue   M   2     85.0     19     Maths   81.0   \n",
       "2     39.0     19  Data Structue   M   3     45.0     19     Maths   41.0   \n",
       "3     76.0     18  Data Structue   M   4     82.0     18     Maths   78.0   \n",
       "4     76.0     18  Data Structue   F   5     82.0     18     Maths   78.0   \n",
       "\n",
       "   Age  Subject  \n",
       "0   18  Physics  \n",
       "1   19  Physics  \n",
       "2   19  Physics  \n",
       "3   18  Physics  \n",
       "4   18  Physics  "
      ]
     },
     "execution_count": 38,
     "metadata": {},
     "output_type": "execute_result"
    }
   ],
   "source": [
    "whole_dataset_2.head()"
   ]
  },
  {
   "cell_type": "code",
   "execution_count": 39,
   "id": "2be4cb1b",
   "metadata": {},
   "outputs": [],
   "source": [
    "#5.Change Sex(M/F) Columnto 1/2 for further analysis\n",
    "sex={'M':1,'F':2}\n",
    "whole_dataset_2['Sex']=whole_dataset_2['Sex'].map(sex)"
   ]
  },
  {
   "cell_type": "code",
   "execution_count": 40,
   "id": "d10077b4",
   "metadata": {},
   "outputs": [
    {
     "data": {
      "text/html": [
       "<div>\n",
       "<style scoped>\n",
       "    .dataframe tbody tr th:only-of-type {\n",
       "        vertical-align: middle;\n",
       "    }\n",
       "\n",
       "    .dataframe tbody tr th {\n",
       "        vertical-align: top;\n",
       "    }\n",
       "\n",
       "    .dataframe thead th {\n",
       "        text-align: right;\n",
       "    }\n",
       "</style>\n",
       "<table border=\"1\" class=\"dataframe\">\n",
       "  <thead>\n",
       "    <tr style=\"text-align: right;\">\n",
       "      <th></th>\n",
       "      <th>Score_x</th>\n",
       "      <th>Age_x</th>\n",
       "      <th>Subject_x</th>\n",
       "      <th>Sex</th>\n",
       "      <th>ID</th>\n",
       "      <th>Score_y</th>\n",
       "      <th>Age_y</th>\n",
       "      <th>Subject_y</th>\n",
       "      <th>Score</th>\n",
       "      <th>Age</th>\n",
       "      <th>Subject</th>\n",
       "    </tr>\n",
       "  </thead>\n",
       "  <tbody>\n",
       "    <tr>\n",
       "      <th>0</th>\n",
       "      <td>82.0</td>\n",
       "      <td>18</td>\n",
       "      <td>Data Structue</td>\n",
       "      <td>1</td>\n",
       "      <td>1</td>\n",
       "      <td>88.0</td>\n",
       "      <td>18</td>\n",
       "      <td>Maths</td>\n",
       "      <td>84.0</td>\n",
       "      <td>18</td>\n",
       "      <td>Physics</td>\n",
       "    </tr>\n",
       "    <tr>\n",
       "      <th>1</th>\n",
       "      <td>79.0</td>\n",
       "      <td>19</td>\n",
       "      <td>Data Structue</td>\n",
       "      <td>1</td>\n",
       "      <td>2</td>\n",
       "      <td>85.0</td>\n",
       "      <td>19</td>\n",
       "      <td>Maths</td>\n",
       "      <td>81.0</td>\n",
       "      <td>19</td>\n",
       "      <td>Physics</td>\n",
       "    </tr>\n",
       "    <tr>\n",
       "      <th>2</th>\n",
       "      <td>39.0</td>\n",
       "      <td>19</td>\n",
       "      <td>Data Structue</td>\n",
       "      <td>1</td>\n",
       "      <td>3</td>\n",
       "      <td>45.0</td>\n",
       "      <td>19</td>\n",
       "      <td>Maths</td>\n",
       "      <td>41.0</td>\n",
       "      <td>19</td>\n",
       "      <td>Physics</td>\n",
       "    </tr>\n",
       "    <tr>\n",
       "      <th>3</th>\n",
       "      <td>76.0</td>\n",
       "      <td>18</td>\n",
       "      <td>Data Structue</td>\n",
       "      <td>1</td>\n",
       "      <td>4</td>\n",
       "      <td>82.0</td>\n",
       "      <td>18</td>\n",
       "      <td>Maths</td>\n",
       "      <td>78.0</td>\n",
       "      <td>18</td>\n",
       "      <td>Physics</td>\n",
       "    </tr>\n",
       "    <tr>\n",
       "      <th>4</th>\n",
       "      <td>76.0</td>\n",
       "      <td>18</td>\n",
       "      <td>Data Structue</td>\n",
       "      <td>2</td>\n",
       "      <td>5</td>\n",
       "      <td>82.0</td>\n",
       "      <td>18</td>\n",
       "      <td>Maths</td>\n",
       "      <td>78.0</td>\n",
       "      <td>18</td>\n",
       "      <td>Physics</td>\n",
       "    </tr>\n",
       "  </tbody>\n",
       "</table>\n",
       "</div>"
      ],
      "text/plain": [
       "   Score_x  Age_x      Subject_x  Sex  ID  Score_y  Age_y Subject_y  Score   \n",
       "0     82.0     18  Data Structue    1   1     88.0     18     Maths   84.0  \\\n",
       "1     79.0     19  Data Structue    1   2     85.0     19     Maths   81.0   \n",
       "2     39.0     19  Data Structue    1   3     45.0     19     Maths   41.0   \n",
       "3     76.0     18  Data Structue    1   4     82.0     18     Maths   78.0   \n",
       "4     76.0     18  Data Structue    2   5     82.0     18     Maths   78.0   \n",
       "\n",
       "   Age  Subject  \n",
       "0   18  Physics  \n",
       "1   19  Physics  \n",
       "2   19  Physics  \n",
       "3   18  Physics  \n",
       "4   18  Physics  "
      ]
     },
     "execution_count": 40,
     "metadata": {},
     "output_type": "execute_result"
    }
   ],
   "source": [
    "whole_dataset_2.head()"
   ]
  },
  {
   "cell_type": "code",
   "execution_count": 41,
   "id": "77481a52",
   "metadata": {},
   "outputs": [],
   "source": [
    "#6.Store the data in a new file –ScoreFinal.csvEnhancements for code\n",
    "whole_dataset_2.to_csv('score.csv',index=False)"
   ]
  },
  {
   "cell_type": "code",
   "execution_count": null,
   "id": "946bd9d3",
   "metadata": {},
   "outputs": [],
   "source": [
    "#we can all chnage this score term and round it with 2 decimal places.\n",
    "#we can use get_dummies or labelEncoder() to ethinicty and can change the categorical to the numerical one\n",
    "#we can use imputer(strategy=median) for filling average values to null one"
   ]
  }
 ],
 "metadata": {
  "kernelspec": {
   "display_name": "Python 3 (ipykernel)",
   "language": "python",
   "name": "python3"
  },
  "language_info": {
   "codemirror_mode": {
    "name": "ipython",
    "version": 3
   },
   "file_extension": ".py",
   "mimetype": "text/x-python",
   "name": "python",
   "nbconvert_exporter": "python",
   "pygments_lexer": "ipython3",
   "version": "3.10.9"
  }
 },
 "nbformat": 4,
 "nbformat_minor": 5
}

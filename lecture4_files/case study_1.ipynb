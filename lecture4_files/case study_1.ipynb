{
 "cells": [
  {
   "cell_type": "markdown",
   "id": "b09bb943",
   "metadata": {},
   "source": [
    "1.Extract data from the givenSalaryGender CSV file and store the data from each column in a separate NumPy array2"
   ]
  },
  {
   "cell_type": "code",
   "execution_count": 33,
   "id": "ef301cd9",
   "metadata": {},
   "outputs": [],
   "source": [
    "import pandas as pd\n",
    "import csv\n",
    "import numpy as np"
   ]
  },
  {
   "cell_type": "code",
   "execution_count": 34,
   "id": "0ce5ddec",
   "metadata": {},
   "outputs": [],
   "source": [
    "data = []\n",
    "with open('SalaryGender.csv', 'r') as csvfile:\n",
    "    csvreader = csv.reader(csvfile)\n",
    "    for row in csvreader:\n",
    "        data.append(row)\n"
   ]
  },
  {
   "cell_type": "code",
   "execution_count": 40,
   "id": "817af69a",
   "metadata": {},
   "outputs": [],
   "source": [
    "data=np.asarray(data)\n",
    "gender=data[1:,1]\n",
    "salary=data[1:,0]"
   ]
  },
  {
   "cell_type": "code",
   "execution_count": 41,
   "id": "cfc93d61",
   "metadata": {},
   "outputs": [
    {
     "data": {
      "text/plain": [
       "array(['1', '0', '0', '1', '0', '0', '1', '0', '1', '1', '1', '1', '1',\n",
       "       '1', '1', '0', '1', '0', '1', '1', '0', '0', '0', '0', '0', '1',\n",
       "       '1', '0', '0', '1', '0', '0', '0', '1', '0', '1', '0', '0', '1',\n",
       "       '1', '1', '0', '1', '1', '0', '0', '0', '1', '1', '0', '0', '0',\n",
       "       '1', '0', '0', '1', '1', '0', '0', '1', '1', '1', '0', '1', '1',\n",
       "       '0', '0', '1', '0', '0', '0', '1', '0', '1', '0', '0', '1', '1',\n",
       "       '1', '1', '1', '0', '1', '1', '0', '0', '0', '1', '1', '0', '1',\n",
       "       '0', '1', '0', '0', '1', '1', '1', '0', '0'], dtype='<U6')"
      ]
     },
     "execution_count": 41,
     "metadata": {},
     "output_type": "execute_result"
    }
   ],
   "source": [
    "gender"
   ]
  },
  {
   "cell_type": "code",
   "execution_count": 42,
   "id": "bd6b981f",
   "metadata": {},
   "outputs": [
    {
     "data": {
      "text/plain": [
       "array(['140', '30', '35.1', '30', '80', '30', '60', '31.1', '125', '51',\n",
       "       '3', '46', '150', '3', '130', '15', '130', '84', '190', '74', '73',\n",
       "       '10', '50', '7', '9.5', '15.2', '28.6', '20', '72', '81', '100',\n",
       "       '90', '90', '35', '30', '25', '52', '9', '63', '72', '16', '92',\n",
       "       '106', '2.5', '9', '32', '32', '55', '52', '28', '20', '14.7',\n",
       "       '22.3', '34.8', '84', '19', '160', '65', '55', '4.6', '102', '20',\n",
       "       '62', '55', '45.6', '40', '24', '35', '48', '20', '40.7', '15',\n",
       "       '0.25', '152', '39.8', '12', '30', '120', '1.7', '36', '96', '38',\n",
       "       '90', '9', '25.8', '22', '38.8', '72', '89', '41', '89', '25',\n",
       "       '52', '115', '66', '18.6', '152', '1.8', '35', '4'], dtype='<U6')"
      ]
     },
     "execution_count": 42,
     "metadata": {},
     "output_type": "execute_result"
    }
   ],
   "source": [
    "salary"
   ]
  },
  {
   "cell_type": "code",
   "execution_count": 43,
   "id": "71bc0a59",
   "metadata": {},
   "outputs": [
    {
     "data": {
      "text/html": [
       "<div>\n",
       "<style scoped>\n",
       "    .dataframe tbody tr th:only-of-type {\n",
       "        vertical-align: middle;\n",
       "    }\n",
       "\n",
       "    .dataframe tbody tr th {\n",
       "        vertical-align: top;\n",
       "    }\n",
       "\n",
       "    .dataframe thead th {\n",
       "        text-align: right;\n",
       "    }\n",
       "</style>\n",
       "<table border=\"1\" class=\"dataframe\">\n",
       "  <thead>\n",
       "    <tr style=\"text-align: right;\">\n",
       "      <th></th>\n",
       "      <th>Salary</th>\n",
       "      <th>Gender</th>\n",
       "      <th>Age</th>\n",
       "      <th>PhD</th>\n",
       "    </tr>\n",
       "  </thead>\n",
       "  <tbody>\n",
       "    <tr>\n",
       "      <th>0</th>\n",
       "      <td>140.0</td>\n",
       "      <td>1</td>\n",
       "      <td>47</td>\n",
       "      <td>1</td>\n",
       "    </tr>\n",
       "    <tr>\n",
       "      <th>1</th>\n",
       "      <td>30.0</td>\n",
       "      <td>0</td>\n",
       "      <td>65</td>\n",
       "      <td>1</td>\n",
       "    </tr>\n",
       "    <tr>\n",
       "      <th>2</th>\n",
       "      <td>35.1</td>\n",
       "      <td>0</td>\n",
       "      <td>56</td>\n",
       "      <td>0</td>\n",
       "    </tr>\n",
       "    <tr>\n",
       "      <th>3</th>\n",
       "      <td>30.0</td>\n",
       "      <td>1</td>\n",
       "      <td>23</td>\n",
       "      <td>0</td>\n",
       "    </tr>\n",
       "    <tr>\n",
       "      <th>4</th>\n",
       "      <td>80.0</td>\n",
       "      <td>0</td>\n",
       "      <td>53</td>\n",
       "      <td>1</td>\n",
       "    </tr>\n",
       "  </tbody>\n",
       "</table>\n",
       "</div>"
      ],
      "text/plain": [
       "   Salary  Gender  Age  PhD\n",
       "0   140.0       1   47    1\n",
       "1    30.0       0   65    1\n",
       "2    35.1       0   56    0\n",
       "3    30.0       1   23    0\n",
       "4    80.0       0   53    1"
      ]
     },
     "execution_count": 43,
     "metadata": {},
     "output_type": "execute_result"
    }
   ],
   "source": [
    "df=pd.read_csv('SalaryGender.csv')\n",
    "df.head()"
   ]
  },
  {
   "cell_type": "markdown",
   "id": "1c6f8733",
   "metadata": {},
   "source": [
    "Find:1. The number of men with a PhD2. The number of women with a PhD3"
   ]
  },
  {
   "cell_type": "code",
   "execution_count": 44,
   "id": "ffcab4ef",
   "metadata": {},
   "outputs": [],
   "source": [
    "#lets assume 1 is female and 0 is male\n",
    "x=df[df['PhD']==1]"
   ]
  },
  {
   "cell_type": "code",
   "execution_count": 56,
   "id": "a92665d3",
   "metadata": {},
   "outputs": [
    {
     "data": {
      "text/html": [
       "<div>\n",
       "<style scoped>\n",
       "    .dataframe tbody tr th:only-of-type {\n",
       "        vertical-align: middle;\n",
       "    }\n",
       "\n",
       "    .dataframe tbody tr th {\n",
       "        vertical-align: top;\n",
       "    }\n",
       "\n",
       "    .dataframe thead th {\n",
       "        text-align: right;\n",
       "    }\n",
       "</style>\n",
       "<table border=\"1\" class=\"dataframe\">\n",
       "  <thead>\n",
       "    <tr style=\"text-align: right;\">\n",
       "      <th></th>\n",
       "      <th>Salary</th>\n",
       "      <th>Gender</th>\n",
       "      <th>Age</th>\n",
       "      <th>PhD</th>\n",
       "    </tr>\n",
       "  </thead>\n",
       "  <tbody>\n",
       "    <tr>\n",
       "      <th>0</th>\n",
       "      <td>140.0</td>\n",
       "      <td>1</td>\n",
       "      <td>47</td>\n",
       "      <td>1</td>\n",
       "    </tr>\n",
       "    <tr>\n",
       "      <th>1</th>\n",
       "      <td>30.0</td>\n",
       "      <td>0</td>\n",
       "      <td>65</td>\n",
       "      <td>1</td>\n",
       "    </tr>\n",
       "    <tr>\n",
       "      <th>4</th>\n",
       "      <td>80.0</td>\n",
       "      <td>0</td>\n",
       "      <td>53</td>\n",
       "      <td>1</td>\n",
       "    </tr>\n",
       "    <tr>\n",
       "      <th>8</th>\n",
       "      <td>125.0</td>\n",
       "      <td>1</td>\n",
       "      <td>44</td>\n",
       "      <td>1</td>\n",
       "    </tr>\n",
       "    <tr>\n",
       "      <th>9</th>\n",
       "      <td>51.0</td>\n",
       "      <td>1</td>\n",
       "      <td>63</td>\n",
       "      <td>1</td>\n",
       "    </tr>\n",
       "  </tbody>\n",
       "</table>\n",
       "</div>"
      ],
      "text/plain": [
       "   Salary  Gender  Age  PhD\n",
       "0   140.0       1   47    1\n",
       "1    30.0       0   65    1\n",
       "4    80.0       0   53    1\n",
       "8   125.0       1   44    1\n",
       "9    51.0       1   63    1"
      ]
     },
     "execution_count": 56,
     "metadata": {},
     "output_type": "execute_result"
    }
   ],
   "source": [
    "x.head()"
   ]
  },
  {
   "cell_type": "code",
   "execution_count": 57,
   "id": "73efe834",
   "metadata": {},
   "outputs": [
    {
     "data": {
      "text/plain": [
       "Gender\n",
       "1    24\n",
       "0    15\n",
       "Name: count, dtype: int64"
      ]
     },
     "execution_count": 57,
     "metadata": {},
     "output_type": "execute_result"
    }
   ],
   "source": [
    "x['Gender'].value_counts()#hence we got 24 female whose phd is done and 15 male whose phd is done"
   ]
  },
  {
   "cell_type": "markdown",
   "id": "b1215e79",
   "metadata": {},
   "source": [
    "3.Use SalaryGender CSV file. Store the “Age” and “Ph.D.” columns in one DataFrame and delete the data of all people who don’t have a PhD"
   ]
  },
  {
   "cell_type": "code",
   "execution_count": 67,
   "id": "32fcc8a0",
   "metadata": {},
   "outputs": [],
   "source": [
    "df_age_phd=df[df['PhD']==1][['Age','PhD']]"
   ]
  },
  {
   "cell_type": "code",
   "execution_count": 68,
   "id": "c26849be",
   "metadata": {},
   "outputs": [
    {
     "data": {
      "text/html": [
       "<div>\n",
       "<style scoped>\n",
       "    .dataframe tbody tr th:only-of-type {\n",
       "        vertical-align: middle;\n",
       "    }\n",
       "\n",
       "    .dataframe tbody tr th {\n",
       "        vertical-align: top;\n",
       "    }\n",
       "\n",
       "    .dataframe thead th {\n",
       "        text-align: right;\n",
       "    }\n",
       "</style>\n",
       "<table border=\"1\" class=\"dataframe\">\n",
       "  <thead>\n",
       "    <tr style=\"text-align: right;\">\n",
       "      <th></th>\n",
       "      <th>Age</th>\n",
       "      <th>PhD</th>\n",
       "    </tr>\n",
       "  </thead>\n",
       "  <tbody>\n",
       "    <tr>\n",
       "      <th>0</th>\n",
       "      <td>47</td>\n",
       "      <td>1</td>\n",
       "    </tr>\n",
       "    <tr>\n",
       "      <th>1</th>\n",
       "      <td>65</td>\n",
       "      <td>1</td>\n",
       "    </tr>\n",
       "    <tr>\n",
       "      <th>4</th>\n",
       "      <td>53</td>\n",
       "      <td>1</td>\n",
       "    </tr>\n",
       "    <tr>\n",
       "      <th>8</th>\n",
       "      <td>44</td>\n",
       "      <td>1</td>\n",
       "    </tr>\n",
       "    <tr>\n",
       "      <th>9</th>\n",
       "      <td>63</td>\n",
       "      <td>1</td>\n",
       "    </tr>\n",
       "  </tbody>\n",
       "</table>\n",
       "</div>"
      ],
      "text/plain": [
       "   Age  PhD\n",
       "0   47    1\n",
       "1   65    1\n",
       "4   53    1\n",
       "8   44    1\n",
       "9   63    1"
      ]
     },
     "execution_count": 68,
     "metadata": {},
     "output_type": "execute_result"
    }
   ],
   "source": [
    "df_age_phd.head()"
   ]
  },
  {
   "cell_type": "markdown",
   "id": "03443d30",
   "metadata": {},
   "source": [
    "4. Calculate the total number of people who have a Ph.D.degreefrom the SalaryGender CSV file."
   ]
  },
  {
   "cell_type": "code",
   "execution_count": 66,
   "id": "bbec1fff",
   "metadata": {},
   "outputs": [
    {
     "data": {
      "text/plain": [
       "39"
      ]
     },
     "execution_count": 66,
     "metadata": {},
     "output_type": "execute_result"
    }
   ],
   "source": [
    "df[df['PhD']==1]['Gender'].count()"
   ]
  },
  {
   "cell_type": "markdown",
   "id": "59977fce",
   "metadata": {},
   "source": [
    "5. How  do  you  Count  The  Number  Of  Times  Each  Value  Appears \n",
    "\n",
    "In  An  Array  Of Integers?[0, 5, 4, 0, 4, 4, 3, 0, 0, 5, 2, 1,1, 9]\n",
    "Answer should be array([4, 2, 1, 1, 3, 2, 0, 0, 0, 1]) \n",
    "\n",
    "which means 0 comes 4 times, 1 comes 2 times, 2 comes 1 time, 3 comes 1 time and so on."
   ]
  },
  {
   "cell_type": "code",
   "execution_count": 71,
   "id": "b85b0a65",
   "metadata": {},
   "outputs": [],
   "source": [
    "li=np.array([0, 5, 4, 0, 4, 4, 3, 0, 0, 5, 2, 1,1, 9])\n",
    "unique_element,count=np.unique(li,return_counts=True)#if need the indexes in order then will use return_index=true and return at second parameter\n",
    "result=np.zeros(np.max(li)+1,dtype='int')#this np.unique return the sorted element\n",
    "result[unique_element]=count"
   ]
  },
  {
   "cell_type": "code",
   "execution_count": 70,
   "id": "4e209ef5",
   "metadata": {},
   "outputs": [
    {
     "data": {
      "text/plain": [
       "array([4, 2, 1, 1, 3, 2, 0, 0, 0, 1])"
      ]
     },
     "execution_count": 70,
     "metadata": {},
     "output_type": "execute_result"
    }
   ],
   "source": [
    "result"
   ]
  },
  {
   "cell_type": "markdown",
   "id": "0b53f0b6",
   "metadata": {},
   "source": [
    "6. Create a numpy array [[0, 1, 2],[ 3, 4, 5],[ 6, 7, 8],[ 9,10, 11]]) and filter the elements greater than 5."
   ]
  },
  {
   "cell_type": "code",
   "execution_count": 72,
   "id": "743efacb",
   "metadata": {},
   "outputs": [],
   "source": [
    "a=np.array([[0, 1, 2],[ 3, 4, 5],[ 6, 7, 8],[ 9,10, 11]])"
   ]
  },
  {
   "cell_type": "code",
   "execution_count": 74,
   "id": "6bbb16de",
   "metadata": {},
   "outputs": [],
   "source": [
    "filter_a=a[a>5]"
   ]
  },
  {
   "cell_type": "code",
   "execution_count": 75,
   "id": "d75206bd",
   "metadata": {},
   "outputs": [
    {
     "data": {
      "text/plain": [
       "array([ 6,  7,  8,  9, 10, 11])"
      ]
     },
     "execution_count": 75,
     "metadata": {},
     "output_type": "execute_result"
    }
   ],
   "source": [
    "filter_a"
   ]
  },
  {
   "cell_type": "markdown",
   "id": "c4a50d67",
   "metadata": {},
   "source": [
    "7.Create a numpy array having NaN (Not a Number) and print it.\n",
    "\n",
    "array([ nan,   1.,   2.,  nan,   3.,   4.,   5.])\n",
    "\n",
    "Print the same array omitting all elements which are nan"
   ]
  },
  {
   "cell_type": "code",
   "execution_count": 80,
   "id": "37457b75",
   "metadata": {},
   "outputs": [
    {
     "name": "stdout",
     "output_type": "stream",
     "text": [
      "[nan  1.  2. nan  3.  4.  5.]\n"
     ]
    }
   ],
   "source": [
    "b=np.array([np.nan, 1., 2.,np.nan, 3., 4., 5.])\n",
    "print(b)"
   ]
  },
  {
   "cell_type": "code",
   "execution_count": 81,
   "id": "1db65d61",
   "metadata": {},
   "outputs": [
    {
     "name": "stdout",
     "output_type": "stream",
     "text": [
      "[1. 2. 3. 4. 5.]\n"
     ]
    }
   ],
   "source": [
    "filter_b=b[~np.isnan(b)]\n",
    "print(filter_b)"
   ]
  },
  {
   "cell_type": "markdown",
   "id": "53faadb0",
   "metadata": {},
   "source": [
    "8.Create  a  10x10  array  with  random  values  and  find  the  minimum  and  maximum values"
   ]
  },
  {
   "cell_type": "code",
   "execution_count": 82,
   "id": "17b9599e",
   "metadata": {},
   "outputs": [
    {
     "name": "stdout",
     "output_type": "stream",
     "text": [
      "[[0.35198959 0.29830291 0.45407742 0.07759735 0.66395007 0.71271219\n",
      "  0.65393958 0.32266418 0.33093156 0.04805751]\n",
      " [0.91590224 0.90052637 0.8157906  0.9216656  0.4854744  0.20126532\n",
      "  0.13388423 0.55716089 0.55658759 0.30395984]\n",
      " [0.40144776 0.80489163 0.99813902 0.0356376  0.38172666 0.8780859\n",
      "  0.74959679 0.40093853 0.69223585 0.84197068]\n",
      " [0.20981398 0.2063356  0.8237457  0.76558955 0.58887267 0.91095895\n",
      "  0.64168058 0.34551338 0.13414348 0.04152761]\n",
      " [0.78147997 0.56639026 0.36224595 0.24558481 0.16857695 0.35586152\n",
      "  0.42998384 0.14499171 0.70562347 0.6396586 ]\n",
      " [0.35286425 0.89572836 0.66476872 0.61317735 0.2233947  0.35601341\n",
      "  0.91664012 0.23505813 0.33757779 0.49741095]\n",
      " [0.65877899 0.78067982 0.63412477 0.45187895 0.31939805 0.57213879\n",
      "  0.54175404 0.94461483 0.21943014 0.98756111]\n",
      " [0.65256614 0.45157035 0.82617151 0.0071934  0.16120595 0.23404172\n",
      "  0.69074077 0.35435467 0.12368425 0.30912287]\n",
      " [0.79646926 0.70453767 0.38631936 0.4802467  0.2972883  0.90701232\n",
      "  0.90938787 0.89758529 0.28047507 0.32114507]\n",
      " [0.2665205  0.61603756 0.78528632 0.03915908 0.22743872 0.02276577\n",
      "  0.30578181 0.93481486 0.07811473 0.46546448]]\n",
      "0.007193398836237708\n",
      "0.9981390210187031\n"
     ]
    }
   ],
   "source": [
    "rd=np.random.rand(10,10)\n",
    "print(rd)\n",
    "print(np.min(rd))\n",
    "print(np.max(rd))"
   ]
  },
  {
   "cell_type": "markdown",
   "id": "df3fff28",
   "metadata": {},
   "source": [
    "9.Create a random vector of size 30 and find the mean value"
   ]
  },
  {
   "cell_type": "code",
   "execution_count": 83,
   "id": "9ca07779",
   "metadata": {},
   "outputs": [
    {
     "name": "stdout",
     "output_type": "stream",
     "text": [
      "[0.3105602  0.02794447 0.94717655 0.1106403  0.44988637 0.96134579\n",
      " 0.6974702  0.05834939 0.1691761  0.90329081 0.08449113 0.87062166\n",
      " 0.50898784 0.42541132 0.04967126 0.27455296 0.07294894 0.93254546\n",
      " 0.33671352 0.63472525 0.68531903 0.79977508 0.33965455 0.11751261\n",
      " 0.04736001 0.20321634 0.29457095 0.25496325 0.19026395 0.61883648]\n",
      "0.4125993923678057\n"
     ]
    }
   ],
   "source": [
    "r_d=np.random.rand(30)\n",
    "print(r_d)\n",
    "print(np.mean(r_d))"
   ]
  },
  {
   "cell_type": "markdown",
   "id": "911668a9",
   "metadata": {},
   "source": [
    "10.Create a numpy array having elements 0 to 10 And negate all the elements between 3 and 9"
   ]
  },
  {
   "cell_type": "code",
   "execution_count": 84,
   "id": "24159f23",
   "metadata": {},
   "outputs": [
    {
     "name": "stdout",
     "output_type": "stream",
     "text": [
      "[ 0  1  2 -3 -4 -5 -6 -7 -8 -9 10]\n"
     ]
    }
   ],
   "source": [
    "a_10=np.arange(11)\n",
    "a_10[3:10]=-a_10[3:10]\n",
    "print(a_10)"
   ]
  },
  {
   "cell_type": "markdown",
   "id": "ecaf8808",
   "metadata": {},
   "source": [
    "11.Create a random array of 3 rows and 3 columns and sort it according to 1stcolumn, 2ndcolumn,or 3rdcolumn"
   ]
  },
  {
   "cell_type": "code",
   "execution_count": 85,
   "id": "4f86c877",
   "metadata": {},
   "outputs": [
    {
     "name": "stdout",
     "output_type": "stream",
     "text": [
      "Random Array:\n",
      "[[0.04799647 0.58868604 0.66336098]\n",
      " [0.81438476 0.08794895 0.46958647]\n",
      " [0.62886368 0.47016922 0.63206184]]\n",
      "\n",
      "Sorted by 1st Column:\n",
      "[[0.04799647 0.58868604 0.66336098]\n",
      " [0.62886368 0.47016922 0.63206184]\n",
      " [0.81438476 0.08794895 0.46958647]]\n",
      "\n",
      "Sorted by 2nd Column:\n",
      "[[0.81438476 0.08794895 0.46958647]\n",
      " [0.62886368 0.47016922 0.63206184]\n",
      " [0.04799647 0.58868604 0.66336098]]\n",
      "\n",
      "Sorted by 3rd Column:\n",
      "[[0.81438476 0.08794895 0.46958647]\n",
      " [0.62886368 0.47016922 0.63206184]\n",
      " [0.04799647 0.58868604 0.66336098]]\n"
     ]
    }
   ],
   "source": [
    "# Create a random array of shape (3, 3)\n",
    "random_array = np.random.rand(3, 3)\n",
    "\n",
    "print(\"Random Array:\")\n",
    "print(random_array)\n",
    "\n",
    "# Sort based on the 1st column\n",
    "sorted_by_1st_column = random_array[random_array[:, 0].argsort()]\n",
    "\n",
    "# Sort based on the 2nd column\n",
    "sorted_by_2nd_column = random_array[random_array[:, 1].argsort()]\n",
    "\n",
    "# Sort based on the 3rd column\n",
    "sorted_by_3rd_column = random_array[random_array[:, 2].argsort()]\n",
    "\n",
    "print(\"\\nSorted by 1st Column:\")\n",
    "print(sorted_by_1st_column)\n",
    "\n",
    "print(\"\\nSorted by 2nd Column:\")\n",
    "print(sorted_by_2nd_column)\n",
    "\n",
    "print(\"\\nSorted by 3rd Column:\")\n",
    "print(sorted_by_3rd_column)\n"
   ]
  },
  {
   "cell_type": "markdown",
   "id": "c55bc70b",
   "metadata": {},
   "source": [
    "12.Create a four dimensions array to get the sum over the last two axesat once."
   ]
  },
  {
   "cell_type": "code",
   "execution_count": 86,
   "id": "6c7f22c2",
   "metadata": {},
   "outputs": [
    {
     "name": "stdout",
     "output_type": "stream",
     "text": [
      "4D Array:\n",
      "[[[[0.96819422 0.670676   0.47759944 0.74870101 0.29169693]\n",
      "   [0.17959829 0.87310726 0.51239827 0.19839368 0.35187049]\n",
      "   [0.10830037 0.10710381 0.0756249  0.45442301 0.96222057]\n",
      "   [0.19259901 0.99744095 0.33029611 0.58763651 0.80918045]]\n",
      "\n",
      "  [[0.42088611 0.49872882 0.97496971 0.55495756 0.58528083]\n",
      "   [0.87025923 0.14767569 0.27354268 0.92414071 0.79645706]\n",
      "   [0.50942007 0.10934691 0.27415825 0.34194362 0.18815094]\n",
      "   [0.10099405 0.0582434  0.47430333 0.00577526 0.16904829]]\n",
      "\n",
      "  [[0.22311989 0.82209557 0.81193124 0.9765119  0.49392953]\n",
      "   [0.97794966 0.43197059 0.00131074 0.36329165 0.087314  ]\n",
      "   [0.55252712 0.23275318 0.6366801  0.62251388 0.65636637]\n",
      "   [0.81793689 0.31962734 0.51832606 0.35771167 0.46065444]]]\n",
      "\n",
      "\n",
      " [[[0.8998391  0.81481038 0.07959572 0.07917178 0.50180073]\n",
      "   [0.0833781  0.32619673 0.92102376 0.83757799 0.84598124]\n",
      "   [0.83298012 0.1086526  0.45305332 0.952273   0.27031829]\n",
      "   [0.46705338 0.63072314 0.6562727  0.87358554 0.84834024]]\n",
      "\n",
      "  [[0.84772395 0.05910003 0.18856516 0.88300967 0.76649322]\n",
      "   [0.37704222 0.32221482 0.07646048 0.38753064 0.63238059]\n",
      "   [0.32603157 0.63152267 0.40475124 0.89737282 0.21989638]\n",
      "   [0.40831621 0.73779152 0.76944153 0.82530989 0.19353381]]\n",
      "\n",
      "  [[0.99900462 0.66914789 0.42998276 0.16065935 0.31307992]\n",
      "   [0.56679351 0.93720246 0.87321198 0.0766703  0.90921337]\n",
      "   [0.26547739 0.86174678 0.6742364  0.30716169 0.29705068]\n",
      "   [0.98121025 0.74217722 0.24752135 0.72824178 0.08746642]]]]\n",
      "\n",
      "Sum over the last two axes:\n",
      "[[ 9.89706131  8.27828251 10.36452182]\n",
      " [11.48262785  9.95448843 11.12725613]]\n"
     ]
    }
   ],
   "source": [
    "# Create a 4D array with random values\n",
    "four_dim_array = np.random.rand(2, 3, 4, 5)\n",
    "\n",
    "# Calculate the sum over the last two axes (axis -2 and -1) at once\n",
    "sum_over_last_axes = np.sum(four_dim_array, axis=(-2, -1))\n",
    "\n",
    "print(\"4D Array:\")\n",
    "print(four_dim_array)\n",
    "\n",
    "print(\"\\nSum over the last two axes:\")\n",
    "print(sum_over_last_axes)"
   ]
  },
  {
   "cell_type": "markdown",
   "id": "c32b3f32",
   "metadata": {},
   "source": [
    "13.Create a random array and swap two rows of an array."
   ]
  },
  {
   "cell_type": "code",
   "execution_count": 91,
   "id": "8b599391",
   "metadata": {},
   "outputs": [
    {
     "name": "stdout",
     "output_type": "stream",
     "text": [
      "Original Array:\n",
      "[[0.80085861 0.4992575  0.65278603 0.63927226]\n",
      " [0.74721166 0.61524463 0.00444621 0.06251417]\n",
      " [0.97880778 0.61766366 0.31174363 0.56039997]\n",
      " [0.29794179 0.06054828 0.86441761 0.12936629]\n",
      " [0.36985882 0.55307648 0.18269289 0.65018288]]\n",
      "\n",
      "Array after swapping rows:\n",
      "[[0.80085861 0.4992575  0.65278603 0.63927226]\n",
      " [0.29794179 0.06054828 0.86441761 0.12936629]\n",
      " [0.97880778 0.61766366 0.31174363 0.56039997]\n",
      " [0.74721166 0.61524463 0.00444621 0.06251417]\n",
      " [0.36985882 0.55307648 0.18269289 0.65018288]]\n"
     ]
    }
   ],
   "source": [
    "# Create a random array\n",
    "random_array = np.random.rand(5, 4)\n",
    "\n",
    "print(\"Original Array:\")\n",
    "print(random_array)\n",
    "\n",
    "# Store the row to be swapped in a temporary variable\n",
    "temp_row = np.copy(random_array[row_to_swap])\n",
    "\n",
    "# Perform the swap\n",
    "random_array[row_to_swap] = random_array[target_row]\n",
    "random_array[target_row] = temp_row\n",
    "\n",
    "\n",
    "print(\"\\nArray after swapping rows:\")\n",
    "print(random_array)"
   ]
  },
  {
   "cell_type": "markdown",
   "id": "e4624eea",
   "metadata": {},
   "source": [
    "14.Create a random matrix and Compute a matrix rank"
   ]
  },
  {
   "cell_type": "code",
   "execution_count": 92,
   "id": "d2d1ac86",
   "metadata": {},
   "outputs": [
    {
     "name": "stdout",
     "output_type": "stream",
     "text": [
      "Random Matrix:\n",
      "[[0.7831281  0.01861866 0.84054945 0.6171978 ]\n",
      " [0.34448461 0.15791886 0.08316776 0.84118847]\n",
      " [0.95629244 0.73111268 0.38616976 0.28539943]\n",
      " [0.26898806 0.34235494 0.36841787 0.85603833]]\n",
      "\n",
      "Matrix Rank: 4\n"
     ]
    }
   ],
   "source": [
    "random_matrix = np.random.rand(4, 4)\n",
    "\n",
    "print(\"Random Matrix:\")\n",
    "print(random_matrix)\n",
    "\n",
    "# Compute the rank of the matrix\n",
    "matrix_rank = np.linalg.matrix_rank(random_matrix)\n",
    "\n",
    "print(\"\\nMatrix Rank:\", matrix_rank)"
   ]
  },
  {
   "cell_type": "markdown",
   "id": "a75733dd",
   "metadata": {},
   "source": [
    "15.Analyse  various  school  outcomes  in  Tennessee  using  pandas.  Suppose  you  are  a public   school   administrator.   Some   schools   in   your   state   of   Tennessee   areperforming  below  average  academically.  Your  superintendent,  under  pressure from frustrated parents and voters, approached you with the task of understanding why these schools are underperforming. To improve school performance, you need to  learn  more  about  these  schools  and  their  students,  just  as  a  business  needs  to understand its strengths and weaknesses and its customers. Though you areeager to build an impressive explanatory model, you know the importance of conducting preliminary research to prevent possible pitfalls orblind spots. Thus, you engagein thorough  exploratory  analysis,  which  includes:  a  lit  review,  data  collection, descriptive and inferential statistics, and data visualization.\n",
    "\n",
    "Phase 1 -Data CollectionHere  is thedata  of  every  public  school  in  middle  Tennessee.  The  data  also  includes various  demographic,  school  faculty,  and  income  variables.  You  need  to  convert  the data into useful information.\n",
    "\n",
    "•Read the data in a pandas data frame\n",
    "\n",
    "•Describe the data to find more details\n",
    "\n",
    "Phase 2 -Group data by school ratingsChooses  indicators  that  describe  the  student  body  (for  example,reduced_lunch)  or school administration (stu_teach_ratio) hoping they will explainschool_rating.reduced_lunchis  a  variable  measuring  the  average  percentage of students per school enrolled in a federal program that provides lunches for students from lower-income households. \n",
    "\n",
    "In short,reduced_lunchis a good proxy for household income.\n",
    "Isolates‘reduced_lunch’and groups the data by‘school_rating’using pandasgroupby method and then usedescribeon the re-shaped data\n"
   ]
  },
  {
   "cell_type": "code",
   "execution_count": 93,
   "id": "8656916f",
   "metadata": {},
   "outputs": [],
   "source": [
    "sch=pd.read_csv('middle_tn_schools.csv')"
   ]
  },
  {
   "cell_type": "code",
   "execution_count": 94,
   "id": "369370e0",
   "metadata": {},
   "outputs": [
    {
     "data": {
      "text/html": [
       "<div>\n",
       "<style scoped>\n",
       "    .dataframe tbody tr th:only-of-type {\n",
       "        vertical-align: middle;\n",
       "    }\n",
       "\n",
       "    .dataframe tbody tr th {\n",
       "        vertical-align: top;\n",
       "    }\n",
       "\n",
       "    .dataframe thead th {\n",
       "        text-align: right;\n",
       "    }\n",
       "</style>\n",
       "<table border=\"1\" class=\"dataframe\">\n",
       "  <thead>\n",
       "    <tr style=\"text-align: right;\">\n",
       "      <th></th>\n",
       "      <th>name</th>\n",
       "      <th>school_rating</th>\n",
       "      <th>size</th>\n",
       "      <th>reduced_lunch</th>\n",
       "      <th>state_percentile_16</th>\n",
       "      <th>state_percentile_15</th>\n",
       "      <th>stu_teach_ratio</th>\n",
       "      <th>school_type</th>\n",
       "      <th>avg_score_15</th>\n",
       "      <th>avg_score_16</th>\n",
       "      <th>full_time_teachers</th>\n",
       "      <th>percent_black</th>\n",
       "      <th>percent_white</th>\n",
       "      <th>percent_asian</th>\n",
       "      <th>percent_hispanic</th>\n",
       "    </tr>\n",
       "  </thead>\n",
       "  <tbody>\n",
       "    <tr>\n",
       "      <th>0</th>\n",
       "      <td>Allendale Elementary School</td>\n",
       "      <td>5.0</td>\n",
       "      <td>851.0</td>\n",
       "      <td>10.0</td>\n",
       "      <td>90.2</td>\n",
       "      <td>95.8</td>\n",
       "      <td>15.7</td>\n",
       "      <td>Public</td>\n",
       "      <td>89.4</td>\n",
       "      <td>85.2</td>\n",
       "      <td>54.0</td>\n",
       "      <td>2.9</td>\n",
       "      <td>85.5</td>\n",
       "      <td>1.6</td>\n",
       "      <td>5.6</td>\n",
       "    </tr>\n",
       "    <tr>\n",
       "      <th>1</th>\n",
       "      <td>Anderson Elementary</td>\n",
       "      <td>2.0</td>\n",
       "      <td>412.0</td>\n",
       "      <td>71.0</td>\n",
       "      <td>32.8</td>\n",
       "      <td>37.3</td>\n",
       "      <td>12.8</td>\n",
       "      <td>Public</td>\n",
       "      <td>43.0</td>\n",
       "      <td>38.3</td>\n",
       "      <td>32.0</td>\n",
       "      <td>3.9</td>\n",
       "      <td>86.7</td>\n",
       "      <td>1.0</td>\n",
       "      <td>4.9</td>\n",
       "    </tr>\n",
       "    <tr>\n",
       "      <th>2</th>\n",
       "      <td>Avoca Elementary</td>\n",
       "      <td>4.0</td>\n",
       "      <td>482.0</td>\n",
       "      <td>43.0</td>\n",
       "      <td>78.4</td>\n",
       "      <td>83.6</td>\n",
       "      <td>16.6</td>\n",
       "      <td>Public</td>\n",
       "      <td>75.7</td>\n",
       "      <td>73.0</td>\n",
       "      <td>29.0</td>\n",
       "      <td>1.0</td>\n",
       "      <td>91.5</td>\n",
       "      <td>1.2</td>\n",
       "      <td>4.4</td>\n",
       "    </tr>\n",
       "    <tr>\n",
       "      <th>3</th>\n",
       "      <td>Bailey Middle</td>\n",
       "      <td>0.0</td>\n",
       "      <td>394.0</td>\n",
       "      <td>91.0</td>\n",
       "      <td>1.6</td>\n",
       "      <td>1.0</td>\n",
       "      <td>13.1</td>\n",
       "      <td>Public Magnet</td>\n",
       "      <td>2.1</td>\n",
       "      <td>4.4</td>\n",
       "      <td>30.0</td>\n",
       "      <td>80.7</td>\n",
       "      <td>11.7</td>\n",
       "      <td>2.3</td>\n",
       "      <td>4.3</td>\n",
       "    </tr>\n",
       "    <tr>\n",
       "      <th>4</th>\n",
       "      <td>Barfield Elementary</td>\n",
       "      <td>4.0</td>\n",
       "      <td>948.0</td>\n",
       "      <td>26.0</td>\n",
       "      <td>85.3</td>\n",
       "      <td>89.2</td>\n",
       "      <td>14.8</td>\n",
       "      <td>Public</td>\n",
       "      <td>81.3</td>\n",
       "      <td>79.6</td>\n",
       "      <td>64.0</td>\n",
       "      <td>11.8</td>\n",
       "      <td>71.2</td>\n",
       "      <td>7.1</td>\n",
       "      <td>6.0</td>\n",
       "    </tr>\n",
       "  </tbody>\n",
       "</table>\n",
       "</div>"
      ],
      "text/plain": [
       "                          name  school_rating   size  reduced_lunch   \n",
       "0  Allendale Elementary School            5.0  851.0           10.0  \\\n",
       "1          Anderson Elementary            2.0  412.0           71.0   \n",
       "2             Avoca Elementary            4.0  482.0           43.0   \n",
       "3                Bailey Middle            0.0  394.0           91.0   \n",
       "4          Barfield Elementary            4.0  948.0           26.0   \n",
       "\n",
       "   state_percentile_16  state_percentile_15  stu_teach_ratio    school_type   \n",
       "0                 90.2                 95.8             15.7         Public  \\\n",
       "1                 32.8                 37.3             12.8         Public   \n",
       "2                 78.4                 83.6             16.6         Public   \n",
       "3                  1.6                  1.0             13.1  Public Magnet   \n",
       "4                 85.3                 89.2             14.8         Public   \n",
       "\n",
       "   avg_score_15  avg_score_16  full_time_teachers  percent_black   \n",
       "0          89.4          85.2                54.0            2.9  \\\n",
       "1          43.0          38.3                32.0            3.9   \n",
       "2          75.7          73.0                29.0            1.0   \n",
       "3           2.1           4.4                30.0           80.7   \n",
       "4          81.3          79.6                64.0           11.8   \n",
       "\n",
       "   percent_white  percent_asian  percent_hispanic  \n",
       "0           85.5            1.6               5.6  \n",
       "1           86.7            1.0               4.9  \n",
       "2           91.5            1.2               4.4  \n",
       "3           11.7            2.3               4.3  \n",
       "4           71.2            7.1               6.0  "
      ]
     },
     "execution_count": 94,
     "metadata": {},
     "output_type": "execute_result"
    }
   ],
   "source": [
    "sch.head()"
   ]
  },
  {
   "cell_type": "code",
   "execution_count": 95,
   "id": "1a2c5695",
   "metadata": {},
   "outputs": [
    {
     "data": {
      "text/html": [
       "<div>\n",
       "<style scoped>\n",
       "    .dataframe tbody tr th:only-of-type {\n",
       "        vertical-align: middle;\n",
       "    }\n",
       "\n",
       "    .dataframe tbody tr th {\n",
       "        vertical-align: top;\n",
       "    }\n",
       "\n",
       "    .dataframe thead th {\n",
       "        text-align: right;\n",
       "    }\n",
       "</style>\n",
       "<table border=\"1\" class=\"dataframe\">\n",
       "  <thead>\n",
       "    <tr style=\"text-align: right;\">\n",
       "      <th></th>\n",
       "      <th>school_rating</th>\n",
       "      <th>size</th>\n",
       "      <th>reduced_lunch</th>\n",
       "      <th>state_percentile_16</th>\n",
       "      <th>state_percentile_15</th>\n",
       "      <th>stu_teach_ratio</th>\n",
       "      <th>avg_score_15</th>\n",
       "      <th>avg_score_16</th>\n",
       "      <th>full_time_teachers</th>\n",
       "      <th>percent_black</th>\n",
       "      <th>percent_white</th>\n",
       "      <th>percent_asian</th>\n",
       "      <th>percent_hispanic</th>\n",
       "    </tr>\n",
       "  </thead>\n",
       "  <tbody>\n",
       "    <tr>\n",
       "      <th>count</th>\n",
       "      <td>347.000000</td>\n",
       "      <td>347.000000</td>\n",
       "      <td>347.000000</td>\n",
       "      <td>347.000000</td>\n",
       "      <td>341.000000</td>\n",
       "      <td>347.000000</td>\n",
       "      <td>341.000000</td>\n",
       "      <td>347.000000</td>\n",
       "      <td>347.000000</td>\n",
       "      <td>347.000000</td>\n",
       "      <td>347.000000</td>\n",
       "      <td>347.000000</td>\n",
       "      <td>347.000000</td>\n",
       "    </tr>\n",
       "    <tr>\n",
       "      <th>mean</th>\n",
       "      <td>2.968300</td>\n",
       "      <td>699.472622</td>\n",
       "      <td>50.279539</td>\n",
       "      <td>58.801729</td>\n",
       "      <td>58.249267</td>\n",
       "      <td>15.461671</td>\n",
       "      <td>57.004692</td>\n",
       "      <td>57.049856</td>\n",
       "      <td>44.939481</td>\n",
       "      <td>21.197983</td>\n",
       "      <td>61.673487</td>\n",
       "      <td>2.642651</td>\n",
       "      <td>11.164553</td>\n",
       "    </tr>\n",
       "    <tr>\n",
       "      <th>std</th>\n",
       "      <td>1.690377</td>\n",
       "      <td>400.598636</td>\n",
       "      <td>25.480236</td>\n",
       "      <td>32.540747</td>\n",
       "      <td>32.702630</td>\n",
       "      <td>5.725170</td>\n",
       "      <td>26.696450</td>\n",
       "      <td>27.968974</td>\n",
       "      <td>22.053386</td>\n",
       "      <td>23.562538</td>\n",
       "      <td>27.274859</td>\n",
       "      <td>3.109629</td>\n",
       "      <td>12.030608</td>\n",
       "    </tr>\n",
       "    <tr>\n",
       "      <th>min</th>\n",
       "      <td>0.000000</td>\n",
       "      <td>53.000000</td>\n",
       "      <td>2.000000</td>\n",
       "      <td>0.200000</td>\n",
       "      <td>0.600000</td>\n",
       "      <td>4.700000</td>\n",
       "      <td>1.500000</td>\n",
       "      <td>0.100000</td>\n",
       "      <td>2.000000</td>\n",
       "      <td>0.000000</td>\n",
       "      <td>1.100000</td>\n",
       "      <td>0.000000</td>\n",
       "      <td>0.000000</td>\n",
       "    </tr>\n",
       "    <tr>\n",
       "      <th>25%</th>\n",
       "      <td>2.000000</td>\n",
       "      <td>420.500000</td>\n",
       "      <td>30.000000</td>\n",
       "      <td>30.950000</td>\n",
       "      <td>27.100000</td>\n",
       "      <td>13.700000</td>\n",
       "      <td>37.600000</td>\n",
       "      <td>37.000000</td>\n",
       "      <td>30.000000</td>\n",
       "      <td>3.600000</td>\n",
       "      <td>40.600000</td>\n",
       "      <td>0.750000</td>\n",
       "      <td>3.800000</td>\n",
       "    </tr>\n",
       "    <tr>\n",
       "      <th>50%</th>\n",
       "      <td>3.000000</td>\n",
       "      <td>595.000000</td>\n",
       "      <td>51.000000</td>\n",
       "      <td>66.400000</td>\n",
       "      <td>65.800000</td>\n",
       "      <td>15.000000</td>\n",
       "      <td>61.800000</td>\n",
       "      <td>60.700000</td>\n",
       "      <td>40.000000</td>\n",
       "      <td>13.500000</td>\n",
       "      <td>68.700000</td>\n",
       "      <td>1.600000</td>\n",
       "      <td>6.400000</td>\n",
       "    </tr>\n",
       "    <tr>\n",
       "      <th>75%</th>\n",
       "      <td>4.000000</td>\n",
       "      <td>851.000000</td>\n",
       "      <td>71.500000</td>\n",
       "      <td>88.000000</td>\n",
       "      <td>88.600000</td>\n",
       "      <td>16.700000</td>\n",
       "      <td>79.600000</td>\n",
       "      <td>80.250000</td>\n",
       "      <td>54.000000</td>\n",
       "      <td>28.350000</td>\n",
       "      <td>85.950000</td>\n",
       "      <td>3.100000</td>\n",
       "      <td>13.800000</td>\n",
       "    </tr>\n",
       "    <tr>\n",
       "      <th>max</th>\n",
       "      <td>5.000000</td>\n",
       "      <td>2314.000000</td>\n",
       "      <td>98.000000</td>\n",
       "      <td>99.800000</td>\n",
       "      <td>99.800000</td>\n",
       "      <td>111.000000</td>\n",
       "      <td>99.000000</td>\n",
       "      <td>98.900000</td>\n",
       "      <td>140.000000</td>\n",
       "      <td>97.400000</td>\n",
       "      <td>99.700000</td>\n",
       "      <td>21.100000</td>\n",
       "      <td>65.200000</td>\n",
       "    </tr>\n",
       "  </tbody>\n",
       "</table>\n",
       "</div>"
      ],
      "text/plain": [
       "       school_rating         size  reduced_lunch  state_percentile_16   \n",
       "count     347.000000   347.000000     347.000000           347.000000  \\\n",
       "mean        2.968300   699.472622      50.279539            58.801729   \n",
       "std         1.690377   400.598636      25.480236            32.540747   \n",
       "min         0.000000    53.000000       2.000000             0.200000   \n",
       "25%         2.000000   420.500000      30.000000            30.950000   \n",
       "50%         3.000000   595.000000      51.000000            66.400000   \n",
       "75%         4.000000   851.000000      71.500000            88.000000   \n",
       "max         5.000000  2314.000000      98.000000            99.800000   \n",
       "\n",
       "       state_percentile_15  stu_teach_ratio  avg_score_15  avg_score_16   \n",
       "count           341.000000       347.000000    341.000000    347.000000  \\\n",
       "mean             58.249267        15.461671     57.004692     57.049856   \n",
       "std              32.702630         5.725170     26.696450     27.968974   \n",
       "min               0.600000         4.700000      1.500000      0.100000   \n",
       "25%              27.100000        13.700000     37.600000     37.000000   \n",
       "50%              65.800000        15.000000     61.800000     60.700000   \n",
       "75%              88.600000        16.700000     79.600000     80.250000   \n",
       "max              99.800000       111.000000     99.000000     98.900000   \n",
       "\n",
       "       full_time_teachers  percent_black  percent_white  percent_asian   \n",
       "count          347.000000     347.000000     347.000000     347.000000  \\\n",
       "mean            44.939481      21.197983      61.673487       2.642651   \n",
       "std             22.053386      23.562538      27.274859       3.109629   \n",
       "min              2.000000       0.000000       1.100000       0.000000   \n",
       "25%             30.000000       3.600000      40.600000       0.750000   \n",
       "50%             40.000000      13.500000      68.700000       1.600000   \n",
       "75%             54.000000      28.350000      85.950000       3.100000   \n",
       "max            140.000000      97.400000      99.700000      21.100000   \n",
       "\n",
       "       percent_hispanic  \n",
       "count        347.000000  \n",
       "mean          11.164553  \n",
       "std           12.030608  \n",
       "min            0.000000  \n",
       "25%            3.800000  \n",
       "50%            6.400000  \n",
       "75%           13.800000  \n",
       "max           65.200000  "
      ]
     },
     "execution_count": 95,
     "metadata": {},
     "output_type": "execute_result"
    }
   ],
   "source": [
    "sch.describe()"
   ]
  },
  {
   "cell_type": "code",
   "execution_count": 101,
   "id": "52b61ff1",
   "metadata": {},
   "outputs": [],
   "source": [
    "sch_new=sch.groupby('school_rating')['reduced_lunch'].describe()"
   ]
  },
  {
   "cell_type": "code",
   "execution_count": 102,
   "id": "21359a00",
   "metadata": {},
   "outputs": [
    {
     "data": {
      "text/html": [
       "<div>\n",
       "<style scoped>\n",
       "    .dataframe tbody tr th:only-of-type {\n",
       "        vertical-align: middle;\n",
       "    }\n",
       "\n",
       "    .dataframe tbody tr th {\n",
       "        vertical-align: top;\n",
       "    }\n",
       "\n",
       "    .dataframe thead th {\n",
       "        text-align: right;\n",
       "    }\n",
       "</style>\n",
       "<table border=\"1\" class=\"dataframe\">\n",
       "  <thead>\n",
       "    <tr style=\"text-align: right;\">\n",
       "      <th></th>\n",
       "      <th>count</th>\n",
       "      <th>mean</th>\n",
       "      <th>std</th>\n",
       "      <th>min</th>\n",
       "      <th>25%</th>\n",
       "      <th>50%</th>\n",
       "      <th>75%</th>\n",
       "      <th>max</th>\n",
       "    </tr>\n",
       "    <tr>\n",
       "      <th>school_rating</th>\n",
       "      <th></th>\n",
       "      <th></th>\n",
       "      <th></th>\n",
       "      <th></th>\n",
       "      <th></th>\n",
       "      <th></th>\n",
       "      <th></th>\n",
       "      <th></th>\n",
       "    </tr>\n",
       "  </thead>\n",
       "  <tbody>\n",
       "    <tr>\n",
       "      <th>0.0</th>\n",
       "      <td>43.0</td>\n",
       "      <td>83.581395</td>\n",
       "      <td>8.813498</td>\n",
       "      <td>53.0</td>\n",
       "      <td>79.50</td>\n",
       "      <td>86.0</td>\n",
       "      <td>90.00</td>\n",
       "      <td>98.0</td>\n",
       "    </tr>\n",
       "    <tr>\n",
       "      <th>1.0</th>\n",
       "      <td>40.0</td>\n",
       "      <td>74.950000</td>\n",
       "      <td>11.644191</td>\n",
       "      <td>53.0</td>\n",
       "      <td>65.00</td>\n",
       "      <td>74.5</td>\n",
       "      <td>84.25</td>\n",
       "      <td>98.0</td>\n",
       "    </tr>\n",
       "    <tr>\n",
       "      <th>2.0</th>\n",
       "      <td>44.0</td>\n",
       "      <td>64.272727</td>\n",
       "      <td>11.956051</td>\n",
       "      <td>37.0</td>\n",
       "      <td>54.75</td>\n",
       "      <td>62.5</td>\n",
       "      <td>74.00</td>\n",
       "      <td>88.0</td>\n",
       "    </tr>\n",
       "    <tr>\n",
       "      <th>3.0</th>\n",
       "      <td>56.0</td>\n",
       "      <td>50.285714</td>\n",
       "      <td>13.550866</td>\n",
       "      <td>24.0</td>\n",
       "      <td>41.00</td>\n",
       "      <td>48.5</td>\n",
       "      <td>63.00</td>\n",
       "      <td>78.0</td>\n",
       "    </tr>\n",
       "    <tr>\n",
       "      <th>4.0</th>\n",
       "      <td>86.0</td>\n",
       "      <td>41.000000</td>\n",
       "      <td>16.681092</td>\n",
       "      <td>4.0</td>\n",
       "      <td>30.00</td>\n",
       "      <td>41.5</td>\n",
       "      <td>50.00</td>\n",
       "      <td>87.0</td>\n",
       "    </tr>\n",
       "  </tbody>\n",
       "</table>\n",
       "</div>"
      ],
      "text/plain": [
       "               count       mean        std   min    25%   50%    75%   max\n",
       "school_rating                                                             \n",
       "0.0             43.0  83.581395   8.813498  53.0  79.50  86.0  90.00  98.0\n",
       "1.0             40.0  74.950000  11.644191  53.0  65.00  74.5  84.25  98.0\n",
       "2.0             44.0  64.272727  11.956051  37.0  54.75  62.5  74.00  88.0\n",
       "3.0             56.0  50.285714  13.550866  24.0  41.00  48.5  63.00  78.0\n",
       "4.0             86.0  41.000000  16.681092   4.0  30.00  41.5  50.00  87.0"
      ]
     },
     "execution_count": 102,
     "metadata": {},
     "output_type": "execute_result"
    }
   ],
   "source": [
    "sch_new.head()"
   ]
  },
  {
   "cell_type": "markdown",
   "id": "17ce1ad7",
   "metadata": {},
   "source": [
    "Phase 3 –Correlation analysisFind the correlation between ‘reduced_lunch’and‘school_rating’. The values in the correlation matrix table will be between -1 and 1. A value of -1 indicates the strongest possible negative correlation, meaning as one variable decreases the other increases. And a value of 1 indicates the opposite."
   ]
  },
  {
   "cell_type": "code",
   "execution_count": 107,
   "id": "717dfb8f",
   "metadata": {},
   "outputs": [
    {
     "data": {
      "text/plain": [
       "-0.8157567373058033"
      ]
     },
     "execution_count": 107,
     "metadata": {},
     "output_type": "execute_result"
    }
   ],
   "source": [
    "sch['reduced_lunch'].corr(sch['school_rating'])"
   ]
  },
  {
   "cell_type": "code",
   "execution_count": 109,
   "id": "96434ea4",
   "metadata": {},
   "outputs": [
    {
     "data": {
      "text/html": [
       "<div>\n",
       "<style scoped>\n",
       "    .dataframe tbody tr th:only-of-type {\n",
       "        vertical-align: middle;\n",
       "    }\n",
       "\n",
       "    .dataframe tbody tr th {\n",
       "        vertical-align: top;\n",
       "    }\n",
       "\n",
       "    .dataframe thead th {\n",
       "        text-align: right;\n",
       "    }\n",
       "</style>\n",
       "<table border=\"1\" class=\"dataframe\">\n",
       "  <thead>\n",
       "    <tr style=\"text-align: right;\">\n",
       "      <th></th>\n",
       "      <th>reduced_lunch</th>\n",
       "      <th>school_rating</th>\n",
       "    </tr>\n",
       "  </thead>\n",
       "  <tbody>\n",
       "    <tr>\n",
       "      <th>reduced_lunch</th>\n",
       "      <td>1.000000</td>\n",
       "      <td>-0.815757</td>\n",
       "    </tr>\n",
       "    <tr>\n",
       "      <th>school_rating</th>\n",
       "      <td>-0.815757</td>\n",
       "      <td>1.000000</td>\n",
       "    </tr>\n",
       "  </tbody>\n",
       "</table>\n",
       "</div>"
      ],
      "text/plain": [
       "               reduced_lunch  school_rating\n",
       "reduced_lunch       1.000000      -0.815757\n",
       "school_rating      -0.815757       1.000000"
      ]
     },
     "execution_count": 109,
     "metadata": {},
     "output_type": "execute_result"
    }
   ],
   "source": [
    "sch[['reduced_lunch','school_rating']].corr()"
   ]
  },
  {
   "cell_type": "markdown",
   "id": "5893529b",
   "metadata": {},
   "source": [
    "Phase 4 –Scatter PlotFind the relationship betweenschool_ratingandreduced_lunch, Plot a graph with the two variables on a scatter plot. Each dot represents a school. The placement of the dot represents that school's rating (Y-axis) and the percentage of its students on reduced lunch(x-axis).    The    downward    trend    line    shows    the    negative    correlation betweenschool_ratingandreduced_lunch(as one increases, the other decreases). The slope of the trend line indicates how muchschool_ratingdecreases asreduced_lunchincreases.  A  steeper slope  would  indicate  that  a  small  change inreduced_lunchhas  a  big  impact  onschool_ratingwhile  a  more  horizontal  slope would  indicate  that  the  same  small  change  inreduced_lunchhas  a  smaller  impact onschool_rating"
   ]
  },
  {
   "cell_type": "code",
   "execution_count": 132,
   "id": "ea478099",
   "metadata": {},
   "outputs": [],
   "source": [
    "import matplotlib.pyplot as plt"
   ]
  },
  {
   "cell_type": "code",
   "execution_count": 133,
   "id": "451e7a48",
   "metadata": {},
   "outputs": [
    {
     "data": {
      "image/png": "[encoded data removed]",
      "text/plain": [
       "<Figure size 1000x600 with 1 Axes>"
      ]
     },
     "metadata": {},
     "output_type": "display_data"
    }
   ],
   "source": [
    "plt.figure(figsize=(10, 6))\n",
    "plt.scatter(sch['reduced_lunch'], sch['school_rating'], alpha=0.7, color='blue')\n",
    "plt.title(\"Scatter Plot of school_rating vs. reduced_lunch\")\n",
    "plt.xlabel(\"Percentage of Students on Reduced Lunch\")\n",
    "plt.ylabel(\"School Rating\")\n",
    "\n",
    "# Fit a linear regression line\n",
    "fit = np.polyfit(sch['reduced_lunch'], sch['school_rating'], 1)\n",
    "fit_fn = np.poly1d(fit)\n",
    "plt.plot(sch['reduced_lunch'], fit_fn(sch['reduced_lunch']), color='red')\n",
    "\n",
    "plt.show()"
   ]
  },
  {
   "cell_type": "markdown",
   "id": "71dffb8a",
   "metadata": {},
   "source": [
    "Phase 5 –Correlation MatrixAn efficient graph for assessing relationships is the correlation matrix, as seen below; its  color-coded  cells  make  it  easier  to  interpret  than  the  tabular  correlation  matrix above. Red cells indicate positive correlation; blue cells indicate negative correlation; white cells indicate no correlation. The darker the colors, the stronger the correlation (positive  or  negative)  between  those  two  variables.  Draw  a  graph  of the correlation matrix having all important fields of the data frame."
   ]
  },
  {
   "cell_type": "code",
   "execution_count": 119,
   "id": "3b8ffbe6",
   "metadata": {},
   "outputs": [],
   "source": [
    "sch_new2=sch.drop(['name','school_type'],axis=1)# we can convert this categoricak to numerical also inspite of dropping using get_dummies or one hotencodeing\n",
    "import seaborn as sb\n",
    "\n"
   ]
  },
  {
   "cell_type": "code",
   "execution_count": 124,
   "id": "3a77c2ba",
   "metadata": {},
   "outputs": [
    {
     "data": {
      "text/plain": [
       "<Axes: >"
      ]
     },
     "execution_count": 124,
     "metadata": {},
     "output_type": "execute_result"
    },
    {
     "data": {
      "image/png": "[encoded data removed]",
      "text/plain": [
       "<Figure size 640x480 with 2 Axes>"
      ]
     },
     "metadata": {},
     "output_type": "display_data"
    }
   ],
   "source": [
    "\n",
    "sb.heatmap(sch_new2.corr(),annot=True)"
   ]
  },
  {
   "cell_type": "code",
   "execution_count": null,
   "id": "089a97c6",
   "metadata": {},
   "outputs": [],
   "source": []
  }
 ],
 "metadata": {
  "kernelspec": {
   "display_name": "Python 3 (ipykernel)",
   "language": "python",
   "name": "python3"
  },
  "language_info": {
   "codemirror_mode": {
    "name": "ipython",
    "version": 3
   },
   "file_extension": ".py",
   "mimetype": "text/x-python",
   "name": "python",
   "nbconvert_exporter": "python",
   "pygments_lexer": "ipython3",
   "version": "3.10.9"
  }
 },
 "nbformat": 4,
 "nbformat_minor": 5
}

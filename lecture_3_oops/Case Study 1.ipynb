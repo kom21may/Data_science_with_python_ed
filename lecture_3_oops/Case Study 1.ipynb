{
 "cells": [
  {
   "cell_type": "markdown",
   "id": "5b7699b5",
   "metadata": {},
   "source": [
    "1.A Robot moves in a Plane starting from the origin point (0,0). \n",
    "\n",
    "The robot can move UP, DOWN, LEFT, or RIGHT. \n",
    "\n",
    "The trace of Robot movement is as given following:\n",
    "\n",
    "UP 5\n",
    "\n",
    "DOWN 3\n",
    "\n",
    "LEFT 3\n",
    "\n",
    "RIGHT 2\n",
    "\n",
    "The numbers after directions are steps.  \n",
    "\n",
    "Write a program to compute the distance current position after a sequence of movements.Hint: Use the math module"
   ]
  },
  {
   "cell_type": "code",
   "execution_count": 1,
   "id": "cdb4547b",
   "metadata": {},
   "outputs": [],
   "source": [
    "import math"
   ]
  },
  {
   "cell_type": "code",
   "execution_count": null,
   "id": "2d0f398d",
   "metadata": {},
   "outputs": [],
   "source": [
    "\n",
    "x=0\n",
    "y=0\n",
    "while True:\n",
    "    data=input(\"enter movement \")\n",
    "    if not data:\n",
    "        break\n",
    "    direction,steps=data.split()\n",
    "    step=int(steps)\n",
    "    if direction=='UP':\n",
    "        y=y+step\n",
    "    elif direction=='DOWN':\n",
    "        y=y-step\n",
    "    elif direction=='LEFT':\n",
    "        x=x-step\n",
    "    elif direction=='RIGHT':\n",
    "        x=x+step\n",
    "\n",
    "total_movement=math.sqrt(x**2+y**2)\n",
    "print(f\"current position ({x},{y})\")\n",
    "print(total_movement)"
   ]
  },
  {
   "cell_type": "markdown",
   "id": "a6fca0ea",
   "metadata": {},
   "source": [
    "2.Data of XYZ company is stored in the sorted list. Write a program for searching specific data from that list.Hint: Use if/elif to deal with conditions"
   ]
  },
  {
   "cell_type": "code",
   "execution_count": 1,
   "id": "329b2adc",
   "metadata": {},
   "outputs": [],
   "source": [
    "#binsearch(sorted)\n",
    "def search(li,data):\n",
    "    lower=0\n",
    "    upper=len(li)-1\n",
    "    \n",
    "    while(lower<=upper):\n",
    "        mid=(lower+upper)//2\n",
    "        if(li[mid]==data):\n",
    "            return (f'got the data at {mid} {li[mid]}')\n",
    "            \n",
    "        elif(li[mid]<data):\n",
    "            lower=mid+1\n",
    "        else:\n",
    "            upper=mid-1\n",
    "            \n",
    "    return -1\n",
    "            \n",
    "\n",
    "    "
   ]
  },
  {
   "cell_type": "code",
   "execution_count": 2,
   "id": "a69813a1",
   "metadata": {},
   "outputs": [
    {
     "data": {
      "text/plain": [
       "'got the data at 2 4'"
      ]
     },
     "execution_count": 2,
     "metadata": {},
     "output_type": "execute_result"
    }
   ],
   "source": [
    "search([2,3,4,5,6,1,10],4)"
   ]
  },
  {
   "cell_type": "markdown",
   "id": "7a8d97e7",
   "metadata": {},
   "source": [
    "3. Weather forecasting organization wants to show whether is it day or night. So, write a program for such an organization to\n",
    "\n",
    "findwhether is it dark outside or not.Hint: Use the time module"
   ]
  },
  {
   "cell_type": "code",
   "execution_count": 7,
   "id": "92aa0c1b",
   "metadata": {},
   "outputs": [
    {
     "name": "stdout",
     "output_type": "stream",
     "text": [
      "17\n",
      "It is a day\n"
     ]
    }
   ],
   "source": [
    "import time\n",
    "current_time=time.localtime()\n",
    "present_hr=current_time.tm_hour\n",
    "print(present_hr)\n",
    "day_start=6#6 am\n",
    "day_end=18 #6pm\n",
    "if day_start<=present_hr<=day_end:\n",
    "    print(\"It is a day\")\n",
    "else:\n",
    "    print(\"It is a night\")"
   ]
  },
  {
   "cell_type": "markdown",
   "id": "f8687073",
   "metadata": {},
   "source": [
    "4 .Write a program to find the distancebetween two locations when their latitude and longitudes are given.Hint: Use the math module"
   ]
  },
  {
   "cell_type": "code",
   "execution_count": 11,
   "id": "1fa83b3f",
   "metadata": {},
   "outputs": [
    {
     "name": "stdout",
     "output_type": "stream",
     "text": [
      "Enter latitude of location 1: 23\n",
      "Enter longitude of location 1: 32\n",
      "Enter latitude of location 2: 21\n",
      "Enter longitude of location 2: 12\n",
      "The distance between the two locations is approximately 2072.29 kilometers.\n"
     ]
    }
   ],
   "source": [
    "import math\n",
    "\n",
    "def haversine_distance(lat1, lon1, lat2, lon2):\n",
    "    # Radius of the Earth in kilometers\n",
    "    R = 6371.0\n",
    "    # Coordinates of two locations (latitude and longitude in degrees)\n",
    "    lat1 = float(input(\"Enter latitude of location 1: \"))\n",
    "    lon1 = float(input(\"Enter longitude of location 1: \"))\n",
    "    lat2 = float(input(\"Enter latitude of location 2: \"))\n",
    "    lon2 = float(input(\"Enter longitude of location 2: \"))\n",
    "    \n",
    "    # Convert latitude and longitude from degrees to radians\n",
    "    lat1_rad = math.radians(lat1)\n",
    "    lon1_rad = math.radians(lon1)\n",
    "    lat2_rad = math.radians(lat2)\n",
    "    lon2_rad = math.radians(lon2)\n",
    "    \n",
    "    # Calculate differences in coordinates\n",
    "    dlat = lat2_rad - lat1_rad\n",
    "    dlon = lon2_rad - lon1_rad\n",
    "    \n",
    "    # Haversine formula\n",
    "    a = math.sin(dlat / 2)**2 + math.cos(lat1_rad) * math.cos(lat2_rad) * math.sin(dlon / 2)**2\n",
    "    c = 2 * math.atan2(math.sqrt(a), math.sqrt(1 - a))\n",
    "    distance = R * c\n",
    "    \n",
    "    return distance\n",
    "\n",
    "# Calculate and print the distance\n",
    "distance = haversine_distance(lat1, lon1, lat2, lon2)\n",
    "print(f\"The distance between the two locations is approximately {distance:.2f} kilometers.\")\n"
   ]
  },
  {
   "cell_type": "markdown",
   "id": "738e930b",
   "metadata": {},
   "source": [
    "5. Design software for bank systems. There should be options like cash withdrawal, cash credit,and a change password. According to user input, the software should provide the required output.Hint: Use if else statements and functions."
   ]
  },
  {
   "cell_type": "code",
   "execution_count": 1,
   "id": "70aaeeb0",
   "metadata": {},
   "outputs": [],
   "source": [
    "class bank:\n",
    "    def __init__(self):\n",
    "        self.balance=0\n",
    "        self.password='1234'\n",
    "    def withdrawal(self,amount):\n",
    "        if amount<self.balance:\n",
    "            self.balance-=amount\n",
    "        else:\n",
    "            print('insufficient balance')\n",
    "        return self.balance\n",
    "    def credit(self,amount):\n",
    "        self.balance+=amount\n",
    "        return self.balance\n",
    "    def change_pass(self,password):\n",
    "        self.password=password\n",
    "    def total_bal(self):\n",
    "        return self.balance"
   ]
  },
  {
   "cell_type": "code",
   "execution_count": 2,
   "id": "ac77576c",
   "metadata": {},
   "outputs": [
    {
     "name": "stdout",
     "output_type": "stream",
     "text": [
      "option are below/n\n",
      "1. Withdrawal\n",
      "2. credit\n",
      "3. change_pass\n",
      "5. exit bank\n",
      "4. total balance\n",
      "enter choice2\n",
      "enter amount to credit200\n",
      "option are below/n\n",
      "1. Withdrawal\n",
      "2. credit\n",
      "3. change_pass\n",
      "5. exit bank\n",
      "4. total balance\n",
      "enter choice4\n",
      "total balance:  200\n",
      "option are below/n\n",
      "1. Withdrawal\n",
      "2. credit\n",
      "3. change_pass\n",
      "5. exit bank\n",
      "4. total balance\n",
      "enter choice1\n",
      "enter amount to withdraw100\n",
      "option are below/n\n",
      "1. Withdrawal\n",
      "2. credit\n",
      "3. change_pass\n",
      "5. exit bank\n",
      "4. total balance\n",
      "enter choice4\n",
      "total balance:  100\n",
      "option are below/n\n",
      "1. Withdrawal\n",
      "2. credit\n",
      "3. change_pass\n",
      "5. exit bank\n",
      "4. total balance\n",
      "enter choice5\n",
      "existing the bank\n"
     ]
    }
   ],
   "source": [
    "bank=bank()\n",
    "\n",
    "while True:\n",
    "    print(\"/n option are below/n\")\n",
    "    print(\"1. Withdrawal\")\n",
    "    print(\"2. credit\")\n",
    "    print(\"3. change_pass\")\n",
    "    print(\"5. exit bank\")\n",
    "    print(\"4. total balance\")\n",
    "\n",
    "    choice=int(input(\"enter choice\"))\n",
    "\n",
    "    if choice==1:\n",
    "        amount=int(input(\"/n enter amount to withdraw\"))\n",
    "        balance=bank.withdrawal(amount)\n",
    "    elif choice==2:\n",
    "        amount=int(input(\"/n enter amount to credit\"))\n",
    "        balance=bank.credit(amount)\n",
    "    elif choice==3:\n",
    "        new_pass=int(input(\"/n enter password\"))\n",
    "        balance=bank.change_pass(new_pass)\n",
    "    elif choice==4:\n",
    "        print(\"/n total balance: \",bank.balance)\n",
    "    elif choice==5:\n",
    "        print(\"/n existing the bank\")\n",
    "        break\n",
    "    else:\n",
    "        print(\"invalid choice\")\n"
   ]
  },
  {
   "cell_type": "markdown",
   "id": "ba0d0f85",
   "metadata": {},
   "source": [
    "6. Write a program thatwill find all such numbers which are divisible by 7 but are not a  multiple  of  5,  between  2000  and  3200  (both  included).  The  numbers  obtained should be printed in a comma-separated sequence on a single line"
   ]
  },
  {
   "cell_type": "code",
   "execution_count": 1,
   "id": "1db42d69",
   "metadata": {},
   "outputs": [
    {
     "name": "stdout",
     "output_type": "stream",
     "text": [
      "[2002, 2009, 2016, 2023, 2037, 2044, 2051, 2058, 2072, 2079, 2086, 2093, 2107, 2114, 2121, 2128, 2142, 2149, 2156, 2163, 2177, 2184, 2191, 2198, 2212, 2219, 2226, 2233, 2247, 2254, 2261, 2268, 2282, 2289, 2296, 2303, 2317, 2324, 2331, 2338, 2352, 2359, 2366, 2373, 2387, 2394, 2401, 2408, 2422, 2429, 2436, 2443, 2457, 2464, 2471, 2478, 2492, 2499, 2506, 2513, 2527, 2534, 2541, 2548, 2562, 2569, 2576, 2583, 2597, 2604, 2611, 2618, 2632, 2639, 2646, 2653, 2667, 2674, 2681, 2688, 2702, 2709, 2716, 2723, 2737, 2744, 2751, 2758, 2772, 2779, 2786, 2793, 2807, 2814, 2821, 2828, 2842, 2849, 2856, 2863, 2877, 2884, 2891, 2898, 2912, 2919, 2926, 2933, 2947, 2954, 2961, 2968, 2982, 2989, 2996, 3003, 3017, 3024, 3031, 3038, 3052, 3059, 3066, 3073, 3087, 3094, 3101, 3108, 3122, 3129, 3136, 3143, 3157, 3164, 3171, 3178, 3192, 3199]\n",
      "2002,2009,2016,2023,2037,2044,2051,2058,2072,2079,2086,2093,2107,2114,2121,2128,2142,2149,2156,2163,2177,2184,2191,2198,2212,2219,2226,2233,2247,2254,2261,2268,2282,2289,2296,2303,2317,2324,2331,2338,2352,2359,2366,2373,2387,2394,2401,2408,2422,2429,2436,2443,2457,2464,2471,2478,2492,2499,2506,2513,2527,2534,2541,2548,2562,2569,2576,2583,2597,2604,2611,2618,2632,2639,2646,2653,2667,2674,2681,2688,2702,2709,2716,2723,2737,2744,2751,2758,2772,2779,2786,2793,2807,2814,2821,2828,2842,2849,2856,2863,2877,2884,2891,2898,2912,2919,2926,2933,2947,2954,2961,2968,2982,2989,2996,3003,3017,3024,3031,3038,3052,3059,3066,3073,3087,3094,3101,3108,3122,3129,3136,3143,3157,3164,3171,3178,3192,3199\n"
     ]
    }
   ],
   "source": [
    "l=[]\n",
    "for i in range(2000,3200+1):\n",
    "    if i%7==0 and i%5!=0:\n",
    "        l.append(i)\n",
    "print(l,sep=',')\n",
    "        \n",
    "    ####or\n",
    "print(\",\".join(map(str,l)))"
   ]
  },
  {
   "cell_type": "markdown",
   "id": "1fd45535",
   "metadata": {},
   "source": [
    "Write a program that can compute the factorial of a given numb. \n",
    "\n",
    "Use recursion to find it. \n",
    "\n",
    "Hint: Suppose the following input is supplied to the program:8Then, the output should be:40320"
   ]
  },
  {
   "cell_type": "code",
   "execution_count": 3,
   "id": "3d1b69ea",
   "metadata": {},
   "outputs": [],
   "source": [
    "def fact(n):\n",
    "    if n==0 or n==1:\n",
    "        return 1\n",
    "    else: \n",
    "        return n*fact(n-1)\n",
    "    "
   ]
  },
  {
   "cell_type": "code",
   "execution_count": 4,
   "id": "bee1b5af",
   "metadata": {},
   "outputs": [
    {
     "data": {
      "text/plain": [
       "40320"
      ]
     },
     "execution_count": 4,
     "metadata": {},
     "output_type": "execute_result"
    }
   ],
   "source": [
    "fact(8)"
   ]
  },
  {
   "cell_type": "markdown",
   "id": "43356ba1",
   "metadata": {},
   "source": [
    "Write a program that calculates and prints the value according to the given formula:\n",
    "\n",
    "Q = Square root of [(2 * C * D)/H]\n",
    "\n",
    "Following are the fixed values of C and H: C is 50. H is 30.D  is  the  variable  whose  values  should  be  input  to  your  program  in  a comma-separatedsequence. \n",
    "\n",
    "Example:Let  us  assume  the  following comma-separatedinput  sequence  is  given  to  the program:100,150,180The output of the program should be:18,22,24"
   ]
  },
  {
   "cell_type": "code",
   "execution_count": 19,
   "id": "b6a28584",
   "metadata": {},
   "outputs": [
    {
     "name": "stdout",
     "output_type": "stream",
     "text": [
      "100,150,180\n"
     ]
    }
   ],
   "source": [
    "D=list(map(int,(input().split(','))))"
   ]
  },
  {
   "cell_type": "code",
   "execution_count": 31,
   "id": "917a92c6",
   "metadata": {},
   "outputs": [
    {
     "name": "stdout",
     "output_type": "stream",
     "text": [
      "18,22,24\n"
     ]
    }
   ],
   "source": [
    "import math\n",
    "x=[]\n",
    "C,H=50,30\n",
    "for i in D:\n",
    "    q=int(math.sqrt((2*C*i)/H))\n",
    "    x.append(q)\n",
    "print(','.join(map(str,x)))"
   ]
  },
  {
   "cell_type": "markdown",
   "id": "8bbd90c8",
   "metadata": {},
   "source": [
    "9.Write  a  program thattakes  2  digits,  X,Y  as  input  and  generates  a  2-dimensional array. \n",
    "\n",
    "The element value in the i-th row and j-thcolumn of the array should be i*j.Note: i=0,1.., X-1; j=0,1,¡-Y-1.\n",
    "\n",
    "Example:Suppose the following inputs are given to the program:3,5Then, the output of the program should be:[[0, 0, 0, 0, 0], [0, 1, 2, 3, 4], [0, 2, 4, 6, 8]]"
   ]
  },
  {
   "cell_type": "code",
   "execution_count": 35,
   "id": "1c1885e4",
   "metadata": {},
   "outputs": [
    {
     "name": "stdout",
     "output_type": "stream",
     "text": [
      "enter row3\n",
      "enter column5\n",
      "[[0, 0, 0, 0, 0], [0, 1, 2, 3, 4], [0, 2, 4, 6, 8]]\n"
     ]
    }
   ],
   "source": [
    "x=int(input(\"enter row\"))\n",
    "y=int(input(\"enter column\"))\n",
    "l=[[0 for j in range(y)] for i in range(x)]\n",
    "for i in range(x):\n",
    "    for j in range(y):\n",
    "        l[i][j]=i*j\n",
    "print(l)\n",
    "\n",
    "        \n",
    "        "
   ]
  },
  {
   "cell_type": "markdown",
   "id": "5396c1f9",
   "metadata": {},
   "source": [
    "10. .Write a program that accepts a comma-separatedsequence of words as input and prints \n",
    "\n",
    "the words in a comma-separated sequence after sorting them alphabetically. \n",
    "\n",
    "Suppose the following input is supplied to the program \n",
    "\n",
    "without,hello,bag,worldThen, the output should be:bag,hello,without,world"
   ]
  },
  {
   "cell_type": "code",
   "execution_count": 39,
   "id": "f1d45bee",
   "metadata": {},
   "outputs": [
    {
     "name": "stdout",
     "output_type": "stream",
     "text": [
      "without,hello,bag,world\n",
      "['bag', 'hello', 'without', 'world']\n"
     ]
    }
   ],
   "source": [
    "word_seq=input().split(',')\n",
    "word_seq=sorted(word_seq)\n",
    "print(word_seq)"
   ]
  },
  {
   "cell_type": "markdown",
   "id": "b96203a4",
   "metadata": {},
   "source": [
    "11. .Write a program that accepts sequence of lines as input and prints the lines after making all characters in the sentence capitalized. \n",
    "\n",
    "Suppose the following input is supplied to the program:\n",
    "\n",
    "Hello world\n",
    "\n",
    "Practice makes perfect\n",
    "\n",
    "Then, the output should be:\n",
    "\n",
    "HELLO WORLD\n",
    "\n",
    "PRACTICE MAKES PERFECT"
   ]
  },
  {
   "cell_type": "code",
   "execution_count": 41,
   "id": "7cf70d6c",
   "metadata": {},
   "outputs": [
    {
     "name": "stdout",
     "output_type": "stream",
     "text": [
      "Enter a line (press Enter to stop): hello world\n",
      "Enter a line (press Enter to stop): pratice krte rho\n",
      "Enter a line (press Enter to stop): \n",
      "HELLO WORLD\n",
      "PRATICE KRTE RHO\n"
     ]
    }
   ],
   "source": [
    "lines = []\n",
    "while True:\n",
    "    line = input(\"Enter a line (press Enter to stop): \")\n",
    "    if not line:\n",
    "        break\n",
    "    lines.append(line)\n",
    "\n",
    "# Convert lines to uppercase and print them\n",
    "for line in lines:\n",
    "    print(line.upper())\n",
    "    "
   ]
  },
  {
   "cell_type": "markdown",
   "id": "fed8d695",
   "metadata": {},
   "source": [
    "2.Write a program that accepts a sequence of whitespace-separatedwords as input and   prints   the   words   after   removing   all   duplicate   words   and   sorting   them alphanumerically. Suppose the following input is supplied to the program:hello world and practice makes perfect and hello world againThen, the output should be:again and hello makes perfect practice world"
   ]
  },
  {
   "cell_type": "code",
   "execution_count": 43,
   "id": "ae353dce",
   "metadata": {},
   "outputs": [
    {
     "name": "stdout",
     "output_type": "stream",
     "text": [
      "hello world and practice makes perfect and hello world again\n",
      "again and hello makes perfect practice world\n"
     ]
    }
   ],
   "source": [
    "seq_word=input().split()\n",
    "seq_word=sorted(set(seq_word))\n",
    "print(' '.join(seq_word))"
   ]
  },
  {
   "cell_type": "markdown",
   "id": "5bf45801",
   "metadata": {},
   "source": [
    "13.Write  a  program that accepts  a  sequence  of  comma  separated  4  digit  binary numbers  \n",
    "as  its  input  and  then  check  whether  they  are  divisible  by  5  or  not.  \n",
    "The numbers that are divisible by 5 are to be printed in a comma-separatedsequence.\n",
    "\n",
    "Example:0100,0011,1010,1001\n",
    "\n",
    "Then the output should be:1010"
   ]
  },
  {
   "cell_type": "code",
   "execution_count": 57,
   "id": "8bc8c82f",
   "metadata": {},
   "outputs": [
    {
     "name": "stdout",
     "output_type": "stream",
     "text": [
      "Enter comma-separated binary numbers (4 digits each): 0100,0011,1010,1001\n",
      "Binary numbers divisible by 5:\n",
      "1010\n"
     ]
    }
   ],
   "source": [
    "def binary_to_decimal(binary):\n",
    "    return int(binary, 2)\n",
    "\n",
    "def decimal_to_binary(decimal):\n",
    "    return bin(decimal)[2:].zfill(4)\n",
    "\n",
    "input_sequence = input(\"Enter comma-separated binary numbers (4 digits each): \")\n",
    "binary_numbers = input_sequence.split(',')\n",
    "\n",
    "divisible_by_5_binary = []\n",
    "\n",
    "for binary_num in binary_numbers:\n",
    "    decimal_num = binary_to_decimal(binary_num)\n",
    "    if decimal_num % 5 == 0:\n",
    "        divisible_by_5_binary.append(binary_num)\n",
    "\n",
    "if divisible_by_5_binary:\n",
    "    print(\"Binary numbers divisible by 5:\")\n",
    "    print(','.join(divisible_by_5_binary))\n",
    "else:\n",
    "    print(\"No numbers are divisible by 5\")"
   ]
  },
  {
   "cell_type": "markdown",
   "id": "11df30d4",
   "metadata": {},
   "source": [
    "14.Write a program that accepts a sentence and calculatesthe number of upper case letters and lower case letters.Suppose the following input is supplied to the program:Hello world!Then, the output should be:UPPER CASE 1LOWER CASE 9"
   ]
  },
  {
   "cell_type": "code",
   "execution_count": 58,
   "id": "434211e5",
   "metadata": {},
   "outputs": [
    {
     "name": "stdout",
     "output_type": "stream",
     "text": [
      "Hello World\n",
      "UPPER CASE IS 2 and LOWER CASE IS 9\n"
     ]
    }
   ],
   "source": [
    "x=input()\n",
    "upper=0\n",
    "lower=0\n",
    "for i in x:\n",
    "    if i.isupper():\n",
    "        upper+=1\n",
    "    else:\n",
    "        lower+=1\n",
    "print(f'UPPER CASE IS {upper} and LOWER CASE IS {lower}')\n",
    "        "
   ]
  },
  {
   "cell_type": "markdown",
   "id": "6f37ab2b",
   "metadata": {},
   "source": [
    "15.Give an example of the fsum and sum function of the math library"
   ]
  },
  {
   "cell_type": "code",
   "execution_count": 61,
   "id": "bbb80e0d",
   "metadata": {},
   "outputs": [
    {
     "name": "stdout",
     "output_type": "stream",
     "text": [
      "Total using math.fsum: 1.5\n",
      "Total using sum: 15\n"
     ]
    }
   ],
   "source": [
    "import math\n",
    "\n",
    "numbers = [0.1, 0.2, 0.3, 0.4, 0.5]\n",
    "total = math.fsum(numbers)\n",
    "\n",
    "print(\"Total using math.fsum:\", total)\n",
    "\n",
    "numbers = [1, 2, 3, 4, 5]\n",
    "total = sum(numbers)\n",
    "\n",
    "print(\"Total using sum:\", total)"
   ]
  },
  {
   "cell_type": "code",
   "execution_count": null,
   "id": "5a665107",
   "metadata": {},
   "outputs": [],
   "source": []
  }
 ],
 "metadata": {
  "kernelspec": {
   "display_name": "Python 3 (ipykernel)",
   "language": "python",
   "name": "python3"
  },
  "language_info": {
   "codemirror_mode": {
    "name": "ipython",
    "version": 3
   },
   "file_extension": ".py",
   "mimetype": "text/x-python",
   "name": "python",
   "nbconvert_exporter": "python",
   "pygments_lexer": "ipython3",
   "version": "3.10.9"
  }
 },
 "nbformat": 4,
 "nbformat_minor": 5
}

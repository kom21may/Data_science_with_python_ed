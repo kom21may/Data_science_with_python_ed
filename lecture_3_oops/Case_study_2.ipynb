{
 "cells": [
  {
   "cell_type": "markdown",
   "id": "9a448389",
   "metadata": {},
   "source": [
    "Domain –Banking Marketing\n",
    "\n",
    "focus –Optimization\n",
    "\n",
    "Business challenge/requirement   Bank of Portugal runs a marketing campaign to offer loans to clients.  The loanis offered to only clients withparticular professions. A listof successful campaigns(withclientdata) is given in the attached dataset. You have to come up with a program thatreads the file and builds a set of unique profession listsand givesinput profession of the client –the system tells whether the client iseligible to be approached for a marketing campaign.\n",
    "\n",
    "Key issues  Tele Caller can only make x number of cold calls in a day. Hence to increase her effectiveness only eligible customers should be \n",
    "\n",
    "called Considerations The current system does not differentiate clients based on age and profession\n",
    "\n",
    "Data volume 447 \n",
    "\n",
    "records in bank-data.csv\n",
    "\n",
    "Additional information-NA\n",
    "\n",
    "Business benefits\n",
    "\n",
    "The company can achieve between 15% to 20% higher conversion by targeting the right clients\n",
    "\n",
    "Approach to Solve\n",
    "\n",
    "You have to use the fundamentals of Python taught in module2\n",
    "\n",
    "1.Read file bank-data.csv\n",
    "\n",
    "2.Build a set of unique jobs\n",
    "\n",
    "3.Read the input from the command line –profession\n",
    "\n",
    "4.Check if the professionis onthe list\n",
    "\n",
    "5.Print whetherthe client is eligible\n",
    "\n",
    "Enhancements for code: \n",
    "\n",
    "You can try these enhancements in code\n",
    "\n",
    "1.Compute max and min age for loan eligibility based on data in CSVfile\n",
    "\n",
    "2.Store max and min age in the dictionary\n",
    "\n",
    "3.Make the professionalcheck case insensitive \n",
    "\n",
    "4.Currently program ends after the check. Take the input in the whileloop and end only if the user types \"END\" for the profession"
   ]
  },
  {
   "cell_type": "code",
   "execution_count": 3,
   "id": "f24c69a7",
   "metadata": {},
   "outputs": [],
   "source": [
    "import pandas as pd\n",
    "import numpy as np"
   ]
  },
  {
   "cell_type": "code",
   "execution_count": 4,
   "id": "cad80d7f",
   "metadata": {},
   "outputs": [],
   "source": [
    "data=pd.read_csv('bank-data.csv')"
   ]
  },
  {
   "cell_type": "code",
   "execution_count": 5,
   "id": "8bca1795",
   "metadata": {},
   "outputs": [
    {
     "data": {
      "text/html": [
       "<div>\n",
       "<style scoped>\n",
       "    .dataframe tbody tr th:only-of-type {\n",
       "        vertical-align: middle;\n",
       "    }\n",
       "\n",
       "    .dataframe tbody tr th {\n",
       "        vertical-align: top;\n",
       "    }\n",
       "\n",
       "    .dataframe thead th {\n",
       "        text-align: right;\n",
       "    }\n",
       "</style>\n",
       "<table border=\"1\" class=\"dataframe\">\n",
       "  <thead>\n",
       "    <tr style=\"text-align: right;\">\n",
       "      <th></th>\n",
       "      <th>age</th>\n",
       "      <th>job</th>\n",
       "      <th>marital</th>\n",
       "      <th>y</th>\n",
       "    </tr>\n",
       "  </thead>\n",
       "  <tbody>\n",
       "    <tr>\n",
       "      <th>0</th>\n",
       "      <td>20</td>\n",
       "      <td>student</td>\n",
       "      <td>single</td>\n",
       "      <td>yes</td>\n",
       "    </tr>\n",
       "    <tr>\n",
       "      <th>1</th>\n",
       "      <td>32</td>\n",
       "      <td>management</td>\n",
       "      <td>single</td>\n",
       "      <td>yes</td>\n",
       "    </tr>\n",
       "    <tr>\n",
       "      <th>2</th>\n",
       "      <td>49</td>\n",
       "      <td>technician</td>\n",
       "      <td>married</td>\n",
       "      <td>yes</td>\n",
       "    </tr>\n",
       "    <tr>\n",
       "      <th>3</th>\n",
       "      <td>32</td>\n",
       "      <td>blue-collar</td>\n",
       "      <td>married</td>\n",
       "      <td>yes</td>\n",
       "    </tr>\n",
       "    <tr>\n",
       "      <th>4</th>\n",
       "      <td>33</td>\n",
       "      <td>management</td>\n",
       "      <td>married</td>\n",
       "      <td>yes</td>\n",
       "    </tr>\n",
       "  </tbody>\n",
       "</table>\n",
       "</div>"
      ],
      "text/plain": [
       "   age          job  marital    y\n",
       "0   20      student   single  yes\n",
       "1   32   management   single  yes\n",
       "2   49   technician  married  yes\n",
       "3   32  blue-collar  married  yes\n",
       "4   33   management  married  yes"
      ]
     },
     "execution_count": 5,
     "metadata": {},
     "output_type": "execute_result"
    }
   ],
   "source": [
    "data.head()"
   ]
  },
  {
   "cell_type": "code",
   "execution_count": 6,
   "id": "949acf54",
   "metadata": {},
   "outputs": [
    {
     "data": {
      "text/plain": [
       "(447, 4)"
      ]
     },
     "execution_count": 6,
     "metadata": {},
     "output_type": "execute_result"
    }
   ],
   "source": [
    "data.shape"
   ]
  },
  {
   "cell_type": "code",
   "execution_count": 7,
   "id": "c2153fc9",
   "metadata": {},
   "outputs": [],
   "source": [
    "jobs=data['job'].unique()"
   ]
  },
  {
   "cell_type": "code",
   "execution_count": 8,
   "id": "e53b9511",
   "metadata": {},
   "outputs": [
    {
     "data": {
      "text/plain": [
       "array(['student', 'management', 'technician', 'blue-collar', 'admin.',\n",
       "       'services', 'self-employed', 'entrepreneur', 'housemaid'],\n",
       "      dtype=object)"
      ]
     },
     "execution_count": 8,
     "metadata": {},
     "output_type": "execute_result"
    }
   ],
   "source": [
    "jobs"
   ]
  },
  {
   "cell_type": "code",
   "execution_count": 9,
   "id": "e79e1211",
   "metadata": {},
   "outputs": [
    {
     "name": "stdout",
     "output_type": "stream",
     "text": [
      "Enter the profession of a clientstudent\n",
      "that client is eligible\n"
     ]
    }
   ],
   "source": [
    "x=input('Enter the profession of a client')\n",
    "if x in jobs:\n",
    "    print(\"that client is eligible\")\n",
    "else:\n",
    "    print(\"that client is not eligible\")"
   ]
  },
  {
   "cell_type": "code",
   "execution_count": 10,
   "id": "883b7066",
   "metadata": {},
   "outputs": [
    {
     "name": "stdout",
     "output_type": "stream",
     "text": [
      "enter age: 34\n",
      "eligible cadidate\n"
     ]
    }
   ],
   "source": [
    "min_age=min(data['age'])\n",
    "max_age=max(data['age'])\n",
    "input_age=int(input(\"enter age: \"))\n",
    "if min_age<=input_age<=max_age:\n",
    "    print(\"eligible cadidate\")\n",
    "else:\n",
    "    print(\"Not eligible\")"
   ]
  },
  {
   "cell_type": "code",
   "execution_count": 15,
   "id": "44a9f974",
   "metadata": {},
   "outputs": [
    {
     "data": {
      "text/plain": [
       "{'min_age': 19, 'max_age': 80}"
      ]
     },
     "execution_count": 15,
     "metadata": {},
     "output_type": "execute_result"
    }
   ],
   "source": [
    "dic_age={'min_age':min(data['age']),'max_age':max(data['age'])}\n",
    "dic_age"
   ]
  },
  {
   "cell_type": "code",
   "execution_count": 11,
   "id": "bac14bd3",
   "metadata": {},
   "outputs": [
    {
     "name": "stdout",
     "output_type": "stream",
     "text": [
      "Enter the profession of a clientstudent\n",
      "that client is eligible\n"
     ]
    }
   ],
   "source": [
    "x=input('Enter the profession of a client')\n",
    "if x.lower() in jobs:# all the x should be in lower and the job list is already in lower\n",
    "    print(\"that client is eligible\")\n",
    "else:\n",
    "    print(\"that client is not eligible\")"
   ]
  },
  {
   "cell_type": "code",
   "execution_count": 14,
   "id": "d6fbb9af",
   "metadata": {},
   "outputs": [
    {
     "name": "stdout",
     "output_type": "stream",
     "text": [
      "student\n",
      "that client is eligible\n",
      "doctor\n",
      "that client is not eligible\n",
      "teach\n",
      "that client is not eligible\n",
      "end\n"
     ]
    }
   ],
   "source": [
    "\n",
    "while True:\n",
    "    y=input().lower()\n",
    "    if y=='end': \n",
    "        break\n",
    "    elif y in jobs:# all the x should be in lower and the job list is already in lower\n",
    "        print(\"that client is eligible\")\n",
    "    else:\n",
    "        print(\"that client is not eligible\")\n",
    "    "
   ]
  },
  {
   "cell_type": "code",
   "execution_count": null,
   "id": "5aecf812",
   "metadata": {},
   "outputs": [],
   "source": []
  }
 ],
 "metadata": {
  "kernelspec": {
   "display_name": "Python 3 (ipykernel)",
   "language": "python",
   "name": "python3"
  },
  "language_info": {
   "codemirror_mode": {
    "name": "ipython",
    "version": 3
   },
   "file_extension": ".py",
   "mimetype": "text/x-python",
   "name": "python",
   "nbconvert_exporter": "python",
   "pygments_lexer": "ipython3",
   "version": "3.10.9"
  }
 },
 "nbformat": 4,
 "nbformat_minor": 5
}

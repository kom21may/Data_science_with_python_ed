{
 "cells": [
  {
   "cell_type": "markdown",
   "id": "5592bdc0",
   "metadata": {},
   "source": [
    "Business challenge/requirement\n",
    "\n",
    "FuPont is a leading chemical company across the globe.  The Company is on a CSR (Corporate Social Responsibility) mission. It wants to identify biodegradable products based on a study of the relationships between chemical structure and biodegradation of molecules. You as an ML expert have to create anML model to classify the chemical structure as  'Ready BioDegradable' –RB vs 'Not Ready Biodegradable' –NRB"
   ]
  },
  {
   "cell_type": "code",
   "execution_count": null,
   "id": "d1b1c07f",
   "metadata": {},
   "outputs": [],
   "source": []
  }
 ],
 "metadata": {
  "kernelspec": {
   "display_name": "Python 3 (ipykernel)",
   "language": "python",
   "name": "python3"
  },
  "language_info": {
   "codemirror_mode": {
    "name": "ipython",
    "version": 3
   },
   "file_extension": ".py",
   "mimetype": "text/x-python",
   "name": "python",
   "nbconvert_exporter": "python",
   "pygments_lexer": "ipython3",
   "version": "3.10.9"
  }
 },
 "nbformat": 4,
 "nbformat_minor": 5
}
